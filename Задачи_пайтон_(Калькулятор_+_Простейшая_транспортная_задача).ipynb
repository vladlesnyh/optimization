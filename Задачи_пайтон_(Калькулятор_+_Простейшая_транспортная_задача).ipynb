{
  "nbformat": 4,
  "nbformat_minor": 0,
  "metadata": {
    "colab": {
      "provenance": [],
      "authorship_tag": "ABX9TyPwusCxcPim+6JFO7EqQrSQ",
      "include_colab_link": true
    },
    "kernelspec": {
      "name": "python3",
      "display_name": "Python 3"
    },
    "language_info": {
      "name": "python"
    }
  },
  "cells": [
    {
      "cell_type": "markdown",
      "metadata": {
        "id": "view-in-github",
        "colab_type": "text"
      },
      "source": [
        "<a href=\"https://colab.research.google.com/github/vladlesnyh/optimization/blob/main/%D0%97%D0%B0%D0%B4%D0%B0%D1%87%D0%B8_%D0%BF%D0%B0%D0%B9%D1%82%D0%BE%D0%BD_(%D0%9A%D0%B0%D0%BB%D1%8C%D0%BA%D1%83%D0%BB%D1%8F%D1%82%D0%BE%D1%80_%2B_%D0%9F%D1%80%D0%BE%D1%81%D1%82%D0%B5%D0%B9%D1%88%D0%B0%D1%8F_%D1%82%D1%80%D0%B0%D0%BD%D1%81%D0%BF%D0%BE%D1%80%D1%82%D0%BD%D0%B0%D1%8F_%D0%B7%D0%B0%D0%B4%D0%B0%D1%87%D0%B0).ipynb\" target=\"_parent\"><img src=\"https://colab.research.google.com/assets/colab-badge.svg\" alt=\"Open In Colab\"/></a>"
      ]
    },
    {
      "cell_type": "markdown",
      "source": [
        "**Задача 1:** Написать программу, которая запрашивает у пользователя его имя и выводит приветствие в формате: `\"Привет, [имя]!\"`.  "
      ],
      "metadata": {
        "id": "Cohet5-6UcMs"
      }
    },
    {
      "cell_type": "code",
      "execution_count": null,
      "metadata": {
        "colab": {
          "base_uri": "https://localhost:8080/"
        },
        "id": "4l0JbLNZUZcl",
        "outputId": "43b631cf-c48f-48ea-b563-8ee5bebce44b"
      },
      "outputs": [
        {
          "output_type": "stream",
          "name": "stdout",
          "text": [
            "Введите ваше имя: Владислав\n",
            "Привет, Владислав!\n"
          ]
        }
      ],
      "source": [
        "name = input(\"Введите ваше имя: \")\n",
        "print(f\"Привет, {name}!\")\n"
      ]
    },
    {
      "cell_type": "markdown",
      "source": [
        "**Задача 2:** Пользователь вводит число, программа определяет, четное оно или нечетное.  "
      ],
      "metadata": {
        "id": "o-hpQvi2Um1r"
      }
    },
    {
      "cell_type": "code",
      "source": [
        "number = int(input(\"Введите число: \"))\n",
        "if number % 2 == 0:\n",
        "    print(\"Четное\")\n",
        "else:\n",
        "    print(\"Нечетное\")\n"
      ],
      "metadata": {
        "colab": {
          "base_uri": "https://localhost:8080/"
        },
        "id": "ODLSma5CUrmd",
        "outputId": "23e34502-d4ef-4f21-9abb-467353fca1a6"
      },
      "execution_count": null,
      "outputs": [
        {
          "output_type": "stream",
          "name": "stdout",
          "text": [
            "Введите число: 100\n",
            "Четное\n"
          ]
        }
      ]
    },
    {
      "cell_type": "markdown",
      "source": [
        "**Задача 3:** Пользователь вводит число `N`, программа вычисляет сумму всех чисел от 1 до `N`.  "
      ],
      "metadata": {
        "id": "pcUz15nWUtXb"
      }
    },
    {
      "cell_type": "code",
      "source": [
        "n = int(input(\"Введите число N: \"))\n",
        "sum_numbers = sum(range(1, n + 1))\n",
        "print(f\"Сумма чисел от 1 до {n}: {sum_numbers}\")\n"
      ],
      "metadata": {
        "colab": {
          "base_uri": "https://localhost:8080/"
        },
        "id": "2xU0wSyIUzzj",
        "outputId": "0ce4cc51-fa1b-472d-e24a-d3581eae8cce"
      },
      "execution_count": null,
      "outputs": [
        {
          "output_type": "stream",
          "name": "stdout",
          "text": [
            "Введите число N: 678\n",
            "Сумма чисел от 1 до 678: 230181\n"
          ]
        }
      ]
    },
    {
      "cell_type": "markdown",
      "source": [
        "**Задача 4:** Дан список чисел, нужно найти и вывести наибольшее число.  "
      ],
      "metadata": {
        "id": "sUA0t17CU2ds"
      }
    },
    {
      "cell_type": "code",
      "source": [
        "numbers = [100, 2503, 533, 111, 97]\n",
        "max_num = max(numbers)\n",
        "print(f\"Максимальное число: {max_num}\")\n"
      ],
      "metadata": {
        "colab": {
          "base_uri": "https://localhost:8080/"
        },
        "id": "VbXNa_roU5Q8",
        "outputId": "a25e771d-082c-4c74-88a5-0db5ea5699a5"
      },
      "execution_count": null,
      "outputs": [
        {
          "output_type": "stream",
          "name": "stdout",
          "text": [
            "Максимальное число: 2503\n"
          ]
        }
      ]
    },
    {
      "cell_type": "markdown",
      "source": [
        "**Задача 5:** Пользователь вводит слово, программа проверяет, является ли оно палиндромом (читается одинаково слева направо и справа налево).  "
      ],
      "metadata": {
        "id": "ijNrgkpBW4jV"
      }
    },
    {
      "cell_type": "code",
      "source": [
        "word = input(\"Введите слово: \").lower()\n",
        "if word == word[::-1]:\n",
        "    print(\"Это палиндром!\")\n",
        "else:\n",
        "    print(\"Это не палиндром.\")\n"
      ],
      "metadata": {
        "colab": {
          "base_uri": "https://localhost:8080/"
        },
        "id": "egv5opz2W41X",
        "outputId": "d671995c-0f90-4f76-dac5-590192af7fb7"
      },
      "execution_count": null,
      "outputs": [
        {
          "output_type": "stream",
          "name": "stdout",
          "text": [
            "Введите слово: а роза упала на лапу азора\n",
            "Это не палиндром.\n"
          ]
        }
      ]
    },
    {
      "cell_type": "markdown",
      "source": [
        "**Задача 6:** Вывести таблицу умножения для числа, которое вводит пользователь (от 1 до 10)"
      ],
      "metadata": {
        "id": "Jpywfin-W5RE"
      }
    },
    {
      "cell_type": "code",
      "source": [
        "n = int(input(\"Введите число: \"))\n",
        "for i in range(1, 11):\n",
        "    print(f\"{n} x {i} = {n * i}\")\n"
      ],
      "metadata": {
        "colab": {
          "base_uri": "https://localhost:8080/"
        },
        "id": "EIXzKH0EW5zW",
        "outputId": "9c95e299-db06-48cf-be3e-6170b1efe9fd"
      },
      "execution_count": null,
      "outputs": [
        {
          "output_type": "stream",
          "name": "stdout",
          "text": [
            "Введите число: 8\n",
            "8 x 1 = 8\n",
            "8 x 2 = 16\n",
            "8 x 3 = 24\n",
            "8 x 4 = 32\n",
            "8 x 5 = 40\n",
            "8 x 6 = 48\n",
            "8 x 7 = 56\n",
            "8 x 8 = 64\n",
            "8 x 9 = 72\n",
            "8 x 10 = 80\n"
          ]
        }
      ]
    },
    {
      "cell_type": "markdown",
      "source": [
        "**Задача 7:** Написать программу, которая считает количество гласных букв в введенной строке.  "
      ],
      "metadata": {
        "id": "wF7-d72sW5bd"
      }
    },
    {
      "cell_type": "code",
      "source": [
        "text = input(\"Введите текст: \").lower()\n",
        "vowels = \"аеёиоуыэюя\"\n",
        "count = 0\n",
        "for char in text:\n",
        "    if char in vowels:\n",
        "        count += 1\n",
        "print(f\"Количество гласных: {count}\")\n"
      ],
      "metadata": {
        "colab": {
          "base_uri": "https://localhost:8080/"
        },
        "id": "NmnU80qpXHTF",
        "outputId": "645fa77e-1250-447a-9995-cd0d844ae8d0"
      },
      "execution_count": null,
      "outputs": [
        {
          "output_type": "stream",
          "name": "stdout",
          "text": [
            "Введите текст: школа\n",
            "Количество гласных: 2\n"
          ]
        }
      ]
    },
    {
      "cell_type": "markdown",
      "source": [
        "**Задача 8:** Пользователь вводит температуру в градусах Цельсия, программа переводит ее в Фаренгейты.  "
      ],
      "metadata": {
        "id": "blSxHRr1W5qV"
      }
    },
    {
      "cell_type": "code",
      "source": [
        "celsius = float(input(\"Введите температуру в °C: \"))\n",
        "fahrenheit = (celsius * 9/5) + 32\n",
        "print(f\"{celsius}°C = {fahrenheit}°F\")\n"
      ],
      "metadata": {
        "colab": {
          "base_uri": "https://localhost:8080/"
        },
        "id": "zD02diIWX9_1",
        "outputId": "3ec5d6d7-e457-4ee8-9d59-ef2a2aeaf4e7"
      },
      "execution_count": null,
      "outputs": [
        {
          "output_type": "stream",
          "name": "stdout",
          "text": [
            "Введите температуру в °C: 36\n",
            "36.0°C = 96.8°F\n"
          ]
        }
      ]
    },
    {
      "cell_type": "markdown",
      "source": [
        "**Задача 9:** Программа загадывает случайное число от 1 до 10, пользователь пытается угадать.  "
      ],
      "metadata": {
        "id": "TrAJA0pyYAEd"
      }
    },
    {
      "cell_type": "code",
      "source": [
        "import random\n",
        "secret = random.randint(1, 10)\n",
        "guess = int(input(\"Угадайте число от 1 до 10: \"))\n",
        "if guess == secret:\n",
        "    print(\"Правильно!\")\n",
        "else:\n",
        "    print(f\"Неверно! Загадано число {secret}\")\n"
      ],
      "metadata": {
        "colab": {
          "base_uri": "https://localhost:8080/"
        },
        "id": "t1VJpqeeYAZW",
        "outputId": "d7349107-f91e-4b89-b004-020c9affe878"
      },
      "execution_count": null,
      "outputs": [
        {
          "output_type": "stream",
          "name": "stdout",
          "text": [
            "Угадайте число от 1 до 10: 6\n",
            "Неверно! Загадано число 2\n"
          ]
        }
      ]
    },
    {
      "cell_type": "markdown",
      "source": [
        "**Задача 10:** Дан список чисел, нужно оставить только четные числа.  "
      ],
      "metadata": {
        "id": "ihNvThbsYAum"
      }
    },
    {
      "cell_type": "code",
      "source": [
        "numbers = [55, 68, 90, 42, 34, 22, 97, 1000, 111, 600]\n",
        "even_numbers = [x for x in numbers if x % 2 == 0]\n",
        "print(even_numbers)\n"
      ],
      "metadata": {
        "colab": {
          "base_uri": "https://localhost:8080/"
        },
        "id": "uV-afgZfYA4V",
        "outputId": "a45c7bf4-44ed-4a63-ef63-93ce3197e2be"
      },
      "execution_count": null,
      "outputs": [
        {
          "output_type": "stream",
          "name": "stdout",
          "text": [
            "[68, 90, 42, 34, 22, 1000, 600]\n"
          ]
        }
      ]
    },
    {
      "cell_type": "markdown",
      "source": [
        "Задание 11: Простой консольный калькулятор"
      ],
      "metadata": {
        "id": "Ex2qDtXHrTEm"
      }
    },
    {
      "cell_type": "code",
      "source": [
        "def calculator():\n",
        "    print(\"Добро пожаловать в простой калькулятор!\")\n",
        "    print(\"Доступные операции: +, -, *, /\")\n",
        "\n",
        "    try:\n",
        "        num1 = float(input(\"Введите первое число: \"))\n",
        "        operation = input(\"Введите операцию: \")\n",
        "        num2 = float(input(\"Введите второе число: \"))\n",
        "\n",
        "        if operation == \"+\":\n",
        "            result = num1 + num2\n",
        "        elif operation == \"-\":\n",
        "            result = num1 - num2\n",
        "        elif operation == \"*\":\n",
        "            result = num1 * num2\n",
        "        elif operation == \"/\":\n",
        "            if num2 == 0:\n",
        "                print(\"Ошибка: деление на ноль!\")\n",
        "                return\n",
        "            result = num1 / num2\n",
        "        else:\n",
        "            print(\"Ошибка: неизвестная операция!\")\n",
        "            return\n",
        "\n",
        "        print(f\"Результат: {num1} {operation} {num2} = {result}\")\n",
        "\n",
        "    except ValueError:\n",
        "        print(\"Ошибка: введите числа корректно!\")\n",
        "\n",
        "# Запуск калькулятора\n",
        "calculator()"
      ],
      "metadata": {
        "colab": {
          "base_uri": "https://localhost:8080/"
        },
        "id": "q9EGrF0KrOs9",
        "outputId": "0bb91d27-b426-46fd-d984-b674beabdad5"
      },
      "execution_count": null,
      "outputs": [
        {
          "output_type": "stream",
          "name": "stdout",
          "text": [
            "Добро пожаловать в простой калькулятор!\n",
            "Доступные операции: +, -, *, /\n",
            "Введите первое число: 5\n",
            "Введите операцию: +\n",
            "Введите второе число: 12\n",
            "Результат: 5.0 + 12.0 = 17.0\n"
          ]
        }
      ]
    },
    {
      "cell_type": "markdown",
      "source": [
        "Усложним калькулятор. Добавим другие операции и возможность продолжения выполнения операций\n"
      ],
      "metadata": {
        "id": "KDqIdGJ-tl3j"
      }
    },
    {
      "cell_type": "code",
      "source": [
        "while True:\n",
        "    print(\"\\n=== Калькулятор ===\")\n",
        "    print(\"Доступные операции: +, -, *, /, ** (степень), // (целое деление), % (остаток)\")\n",
        "\n",
        "    try:\n",
        "        num1 = float(input(\"Введите первое число: \"))\n",
        "        op = input(\"Введите операцию: \")\n",
        "        num2 = float(input(\"Введите второе число: \"))\n",
        "\n",
        "        if op == \"+\":\n",
        "            res = num1 + num2\n",
        "        elif op == \"-\":\n",
        "            res = num1 - num2\n",
        "        elif op == \"*\":\n",
        "            res = num1 * num2\n",
        "        elif op == \"/\":\n",
        "            if num2 == 0:\n",
        "                print(\"Ошибка: деление на ноль!\")\n",
        "                continue\n",
        "            res = num1 / num2\n",
        "        elif op == \"**\":\n",
        "            res = num1 ** num2\n",
        "        elif op == \"//\":\n",
        "            if num2 == 0:\n",
        "                print(\"Ошибка: деление на ноль!\")\n",
        "                continue\n",
        "            res = num1 // num2\n",
        "        elif op == \"%\":\n",
        "            if num2 == 0:\n",
        "                print(\"Ошибка: деление на ноль!\")\n",
        "                continue\n",
        "            res = num1 % num2\n",
        "        else:\n",
        "            print(\"Неверная операция! Попробуйте снова.\")\n",
        "            continue\n",
        "\n",
        "        print(f\"Результат: {num1} {op} {num2} = {res}\")\n",
        "\n",
        "    except ValueError:\n",
        "        print(\"Ошибка: введите числа корректно!\")\n",
        "\n",
        "    # Спрашиваем, хочет ли пользователь продолжить\n",
        "    choice = input(\"\\nПродолжить? (да/нет): \").lower()\n",
        "    if choice != \"да\":\n",
        "        print(\"Калькулятор завершает работу...\")\n",
        "        break"
      ],
      "metadata": {
        "colab": {
          "base_uri": "https://localhost:8080/"
        },
        "id": "0w6YtzwgtmOU",
        "outputId": "b8bac938-08ad-4515-fa99-0e0fb97fb407"
      },
      "execution_count": null,
      "outputs": [
        {
          "output_type": "stream",
          "name": "stdout",
          "text": [
            "\n",
            "=== Калькулятор ===\n",
            "Доступные операции: +, -, *, /, ** (степень), // (целое деление), % (остаток)\n",
            "Введите первое число: 5\n",
            "Введите операцию: **\\\n",
            "Введите второе число: 3\n",
            "Неверная операция! Попробуйте снова.\n",
            "\n",
            "=== Калькулятор ===\n",
            "Доступные операции: +, -, *, /, ** (степень), // (целое деление), % (остаток)\n",
            "Введите первое число: 5\n",
            "Введите операцию: **\n",
            "Введите второе число: 3\n",
            "Результат: 5.0 ** 3.0 = 125.0\n",
            "\n",
            "Продолжить? (да/нет): нет\\\n",
            "Калькулятор завершает работу...\n"
          ]
        }
      ]
    },
    {
      "cell_type": "markdown",
      "source": [
        "Добавим скобки, тригонометрию.\n"
      ],
      "metadata": {
        "id": "K9RYY9Bfu0mh"
      }
    },
    {
      "cell_type": "code",
      "source": [
        "import math\n",
        "\n",
        "def safe_eval(expr):\n",
        "    # Разрешенные операции и функции\n",
        "    ALLOWED_NAMES = {\n",
        "        k: v for k, v in math.__dict__.items()\n",
        "        if not k.startswith(\"_\") and callable(v) or k in ('pi', 'e')\n",
        "    }\n",
        "    ALLOWED_NAMES.update({\n",
        "        'sin': math.sin,\n",
        "        'cos': math.cos,\n",
        "        'tan': math.tan,\n",
        "        'log': math.log,\n",
        "        'log10': math.log10,\n",
        "        'sqrt': math.sqrt\n",
        "    })\n",
        "\n",
        "    # Проверка на безопасность\n",
        "    code = compile(expr, \"<string>\", \"eval\")\n",
        "    for name in code.co_names:\n",
        "        if name not in ALLOWED_NAMES:\n",
        "            raise NameError(f\"Использование '{name}' запрещено\")\n",
        "    return eval(expr, {\"__builtins__\": {}}, ALLOWED_NAMES)\n",
        "\n",
        "while True:\n",
        "    print(\"\\n=== Продвинутый калькулятор ===\")\n",
        "    print(\"Доступные операции: +, -, *, /, **, //, %\")\n",
        "    print(\"Функции: sin, cos, tan, log, log10, sqrt\")\n",
        "    print(\"Константы: pi, e\")\n",
        "    print(\"Пример: (2 + 3) * cos(pi/4)\")\n",
        "\n",
        "    try:\n",
        "        expr = input(\"Введите выражение: \")\n",
        "        result = safe_eval(expr)\n",
        "        print(f\"Результат: {expr} = {result}\")\n",
        "\n",
        "    except ZeroDivisionError:\n",
        "        print(\"Ошибка: деление на ноль!\")\n",
        "    except (ValueError, SyntaxError, NameError) as e:\n",
        "        print(f\"Ошибка: {e}\")\n",
        "\n",
        "    choice = input(\"\\nПродолжить? (да/нет): \").lower()\n",
        "    if choice != \"да\":\n",
        "        print(\"Калькулятор завершает работу...\")\n",
        "        break"
      ],
      "metadata": {
        "colab": {
          "base_uri": "https://localhost:8080/"
        },
        "id": "lHZh8ougu32h",
        "outputId": "d3cae9fc-819c-4363-98d2-f562a5ca5c2b"
      },
      "execution_count": null,
      "outputs": [
        {
          "output_type": "stream",
          "name": "stdout",
          "text": [
            "\n",
            "=== Продвинутый калькулятор ===\n",
            "Доступные операции: +, -, *, /, **, //, %\n",
            "Функции: sin, cos, tan, log, log10, sqrt\n",
            "Константы: pi, e\n",
            "Пример: (2 + 3) * cos(pi/4)\n",
            "Введите выражение: sin(pi/2)\n",
            "Результат: sin(pi/2) = 1.0\n",
            "\n",
            "Продолжить? (да/нет): sin(pi/4)\n",
            "Калькулятор завершает работу...\n"
          ]
        }
      ]
    },
    {
      "cell_type": "markdown",
      "source": [
        "Добавим в данный калькулятор построение функций. Для начала нужно подключить библиотеку matplotlib\n"
      ],
      "metadata": {
        "id": "tm0OShl_zsqK"
      }
    },
    {
      "cell_type": "code",
      "source": [
        "pip install numpy matplotlib\n"
      ],
      "metadata": {
        "colab": {
          "base_uri": "https://localhost:8080/"
        },
        "id": "6QyDNR6Vz6hB",
        "outputId": "748548de-07bc-4e6f-c977-7a57d6d076e9"
      },
      "execution_count": null,
      "outputs": [
        {
          "output_type": "stream",
          "name": "stdout",
          "text": [
            "Requirement already satisfied: numpy in /usr/local/lib/python3.11/dist-packages (2.0.2)\n",
            "Requirement already satisfied: matplotlib in /usr/local/lib/python3.11/dist-packages (3.10.0)\n",
            "Requirement already satisfied: contourpy>=1.0.1 in /usr/local/lib/python3.11/dist-packages (from matplotlib) (1.3.1)\n",
            "Requirement already satisfied: cycler>=0.10 in /usr/local/lib/python3.11/dist-packages (from matplotlib) (0.12.1)\n",
            "Requirement already satisfied: fonttools>=4.22.0 in /usr/local/lib/python3.11/dist-packages (from matplotlib) (4.56.0)\n",
            "Requirement already satisfied: kiwisolver>=1.3.1 in /usr/local/lib/python3.11/dist-packages (from matplotlib) (1.4.8)\n",
            "Requirement already satisfied: packaging>=20.0 in /usr/local/lib/python3.11/dist-packages (from matplotlib) (24.2)\n",
            "Requirement already satisfied: pillow>=8 in /usr/local/lib/python3.11/dist-packages (from matplotlib) (11.1.0)\n",
            "Requirement already satisfied: pyparsing>=2.3.1 in /usr/local/lib/python3.11/dist-packages (from matplotlib) (3.2.1)\n",
            "Requirement already satisfied: python-dateutil>=2.7 in /usr/local/lib/python3.11/dist-packages (from matplotlib) (2.8.2)\n",
            "Requirement already satisfied: six>=1.5 in /usr/local/lib/python3.11/dist-packages (from python-dateutil>=2.7->matplotlib) (1.17.0)\n"
          ]
        }
      ]
    },
    {
      "cell_type": "markdown",
      "source": [
        "И сам калькулятор\n"
      ],
      "metadata": {
        "id": "EiAgHW48zvwh"
      }
    },
    {
      "cell_type": "code",
      "source": [
        "import math\n",
        "import numpy as np\n",
        "import matplotlib.pyplot as plt\n",
        "\n",
        "def safe_eval(expr, x=None):\n",
        "    \"\"\"Безопасное вычисление выражения\"\"\"\n",
        "    ALLOWED_NAMES = {\n",
        "        **math.__dict__,\n",
        "        'sin': math.sin, 'cos': math.cos, 'tan': math.tan,\n",
        "        'log': math.log, 'log10': math.log10, 'sqrt': math.sqrt,\n",
        "        'pi': math.pi, 'e': math.e, 'x': x\n",
        "    }\n",
        "\n",
        "    code = compile(expr, \"<string>\", \"eval\")\n",
        "    for name in code.co_names:\n",
        "        if name not in ALLOWED_NAMES:\n",
        "            raise NameError(f\"Запрещенный идентификатор: '{name}'\")\n",
        "    return eval(code, {\"__builtins__\": {}}, ALLOWED_NAMES)\n",
        "\n",
        "def plot_function():\n",
        "    \"\"\"Построение графика функции\"\"\"\n",
        "    print(\"\\n\" + \"=\"*30)\n",
        "    print(\"Построение графика функции y = f(x)\")\n",
        "    print(\"=\"*30)\n",
        "\n",
        "    try:\n",
        "        expr = input(\"Введите функцию (например: sin(x)*x): \")\n",
        "        x_start = float(input(\"Начало диапазона x: \"))\n",
        "        x_end = float(input(\"Конец диапазона x: \"))\n",
        "        step = float(input(\"Шаг (0.1): \") or 0.1)\n",
        "\n",
        "        x_values = np.arange(x_start, x_end, step)\n",
        "        y_values = [safe_eval(expr, x) for x in x_values]\n",
        "\n",
        "        plt.figure(figsize=(10, 5))\n",
        "        plt.plot(x_values, y_values, 'b-', linewidth=2, label=f'y = {expr}')\n",
        "        plt.title(f\"График функции: y = {expr}\")\n",
        "        plt.xlabel(\"x\")\n",
        "        plt.ylabel(\"y\")\n",
        "        plt.grid(True)\n",
        "        plt.legend()\n",
        "\n",
        "        save = input(\"Сохранить график? (да/нет): \").lower()\n",
        "        if save == \"да\":\n",
        "            filename = input(\"Введите имя файла (без расширения): \") + \".png\"\n",
        "            plt.savefig(filename)\n",
        "            print(f\"График сохранён как {filename}\")\n",
        "        plt.show()\n",
        "\n",
        "    except Exception as e:\n",
        "        print(f\"Ошибка: {e}\")\n",
        "\n",
        "def calculate_expression():\n",
        "    \"\"\"Обычный режим калькулятора\"\"\"\n",
        "    print(\"\\n\" + \"=\"*30)\n",
        "    print(\"Режим вычисления выражений\")\n",
        "    print(\"=\"*30)\n",
        "\n",
        "    try:\n",
        "        expr = input(\"Введите выражение: \")\n",
        "        result = safe_eval(expr)\n",
        "        print(f\"Результат: {expr} = {result}\")\n",
        "    except Exception as e:\n",
        "        print(f\"Ошибка: {e}\")\n",
        "\n",
        "def main():\n",
        "    while True:\n",
        "        print(\"\\n\" + \"=\"*30)\n",
        "        print(\"Главное меню\")\n",
        "        print(\"=\"*30)\n",
        "        print(\"1: Обычный калькулятор\")\n",
        "        print(\"2: Построение графика функции\")\n",
        "        print(\"3: Выход\")\n",
        "\n",
        "        choice = input(\"Выберите режим (1-3): \").strip()\n",
        "\n",
        "        if choice == \"1\":\n",
        "            calculate_expression()\n",
        "        elif choice == \"2\":\n",
        "            plot_function()\n",
        "        elif choice == \"3\":\n",
        "            print(\"Выход из программы...\")\n",
        "            break\n",
        "        else:\n",
        "            print(\"Неверный ввод! Попробуйте ещё раз.\")\n",
        "\n",
        "if __name__ == \"__main__\":\n",
        "    print(\"=== Продвинутый калькулятор ===\")\n",
        "    print(\"Доступные функции: sin, cos, tan, log, sqrt, pi, e\")\n",
        "    print(\"Примеры:\")\n",
        "    print(\"  Вычисления: (2+3)*cos(pi/4)\")\n",
        "    print(\"  Графики: sin(x)*x, x**2\")\n",
        "    main()"
      ],
      "metadata": {
        "colab": {
          "base_uri": "https://localhost:8080/",
          "height": 1000
        },
        "id": "pd230NAY0AWi",
        "outputId": "38e20e0e-3cf3-43c4-bd4e-1b16900867c3"
      },
      "execution_count": null,
      "outputs": [
        {
          "output_type": "stream",
          "name": "stdout",
          "text": [
            "=== Продвинутый калькулятор ===\n",
            "Доступные функции: sin, cos, tan, log, sqrt, pi, e\n",
            "Примеры:\n",
            "  Вычисления: (2+3)*cos(pi/4)\n",
            "  Графики: sin(x)*x, x**2\n",
            "\n",
            "==============================\n",
            "Главное меню\n",
            "==============================\n",
            "1: Обычный калькулятор\n",
            "2: Построение графика функции\n",
            "3: Выход\n",
            "Выберите режим (1-3): 2\n",
            "\n",
            "==============================\n",
            "Построение графика функции y = f(x)\n",
            "==============================\n",
            "Введите функцию (например: sin(x)*x): sin(x)\n",
            "Начало диапазона x: 0\n",
            "Конец диапазона x: 9\n",
            "Шаг (0.1): 1\n",
            "Сохранить график? (да/нет): да\n",
            "Введите имя файла (без расширения): 123\n",
            "График сохранён как 123.png\n"
          ]
        },
        {
          "output_type": "display_data",
          "data": {
            "text/plain": [
              "<Figure size 1000x500 with 1 Axes>"
            ],
            "image/png": "[encoded data removed]"
          },
          "metadata": {}
        },
        {
          "output_type": "stream",
          "name": "stdout",
          "text": [
            "\n",
            "==============================\n",
            "Главное меню\n",
            "==============================\n",
            "1: Обычный калькулятор\n",
            "2: Построение графика функции\n",
            "3: Выход\n"
          ]
        },
        {
          "output_type": "error",
          "ename": "KeyboardInterrupt",
          "evalue": "Interrupted by user",
          "traceback": [
            "\u001b[0;31m---------------------------------------------------------------------------\u001b[0m",
            "\u001b[0;31mKeyboardInterrupt\u001b[0m                         Traceback (most recent call last)",
            "\u001b[0;32m<ipython-input-9-e1e1b54ff409>\u001b[0m in \u001b[0;36m<cell line: 0>\u001b[0;34m()\u001b[0m\n\u001b[1;32m     91\u001b[0m     \u001b[0mprint\u001b[0m\u001b[0;34m(\u001b[0m\u001b[0;34m\"  Вычисления: (2+3)*cos(pi/4)\"\u001b[0m\u001b[0;34m)\u001b[0m\u001b[0;34m\u001b[0m\u001b[0;34m\u001b[0m\u001b[0m\n\u001b[1;32m     92\u001b[0m     \u001b[0mprint\u001b[0m\u001b[0;34m(\u001b[0m\u001b[0;34m\"  Графики: sin(x)*x, x**2\"\u001b[0m\u001b[0;34m)\u001b[0m\u001b[0;34m\u001b[0m\u001b[0;34m\u001b[0m\u001b[0m\n\u001b[0;32m---> 93\u001b[0;31m     \u001b[0mmain\u001b[0m\u001b[0;34m(\u001b[0m\u001b[0;34m)\u001b[0m\u001b[0;34m\u001b[0m\u001b[0;34m\u001b[0m\u001b[0m\n\u001b[0m",
            "\u001b[0;32m<ipython-input-9-e1e1b54ff409>\u001b[0m in \u001b[0;36mmain\u001b[0;34m()\u001b[0m\n\u001b[1;32m     73\u001b[0m         \u001b[0mprint\u001b[0m\u001b[0;34m(\u001b[0m\u001b[0;34m\"3: Выход\"\u001b[0m\u001b[0;34m)\u001b[0m\u001b[0;34m\u001b[0m\u001b[0;34m\u001b[0m\u001b[0m\n\u001b[1;32m     74\u001b[0m \u001b[0;34m\u001b[0m\u001b[0m\n\u001b[0;32m---> 75\u001b[0;31m         \u001b[0mchoice\u001b[0m \u001b[0;34m=\u001b[0m \u001b[0minput\u001b[0m\u001b[0;34m(\u001b[0m\u001b[0;34m\"Выберите режим (1-3): \"\u001b[0m\u001b[0;34m)\u001b[0m\u001b[0;34m.\u001b[0m\u001b[0mstrip\u001b[0m\u001b[0;34m(\u001b[0m\u001b[0;34m)\u001b[0m\u001b[0;34m\u001b[0m\u001b[0;34m\u001b[0m\u001b[0m\n\u001b[0m\u001b[1;32m     76\u001b[0m \u001b[0;34m\u001b[0m\u001b[0m\n\u001b[1;32m     77\u001b[0m         \u001b[0;32mif\u001b[0m \u001b[0mchoice\u001b[0m \u001b[0;34m==\u001b[0m \u001b[0;34m\"1\"\u001b[0m\u001b[0;34m:\u001b[0m\u001b[0;34m\u001b[0m\u001b[0;34m\u001b[0m\u001b[0m\n",
            "\u001b[0;32m/usr/local/lib/python3.11/dist-packages/ipykernel/kernelbase.py\u001b[0m in \u001b[0;36mraw_input\u001b[0;34m(self, prompt)\u001b[0m\n\u001b[1;32m   1175\u001b[0m                 \u001b[0;34m\"raw_input was called, but this frontend does not support input requests.\"\u001b[0m\u001b[0;34m\u001b[0m\u001b[0;34m\u001b[0m\u001b[0m\n\u001b[1;32m   1176\u001b[0m             )\n\u001b[0;32m-> 1177\u001b[0;31m         return self._input_request(\n\u001b[0m\u001b[1;32m   1178\u001b[0m             \u001b[0mstr\u001b[0m\u001b[0;34m(\u001b[0m\u001b[0mprompt\u001b[0m\u001b[0;34m)\u001b[0m\u001b[0;34m,\u001b[0m\u001b[0;34m\u001b[0m\u001b[0;34m\u001b[0m\u001b[0m\n\u001b[1;32m   1179\u001b[0m             \u001b[0mself\u001b[0m\u001b[0;34m.\u001b[0m\u001b[0m_parent_ident\u001b[0m\u001b[0;34m[\u001b[0m\u001b[0;34m\"shell\"\u001b[0m\u001b[0;34m]\u001b[0m\u001b[0;34m,\u001b[0m\u001b[0;34m\u001b[0m\u001b[0;34m\u001b[0m\u001b[0m\n",
            "\u001b[0;32m/usr/local/lib/python3.11/dist-packages/ipykernel/kernelbase.py\u001b[0m in \u001b[0;36m_input_request\u001b[0;34m(self, prompt, ident, parent, password)\u001b[0m\n\u001b[1;32m   1217\u001b[0m             \u001b[0;32mexcept\u001b[0m \u001b[0mKeyboardInterrupt\u001b[0m\u001b[0;34m:\u001b[0m\u001b[0;34m\u001b[0m\u001b[0;34m\u001b[0m\u001b[0m\n\u001b[1;32m   1218\u001b[0m                 \u001b[0;31m# re-raise KeyboardInterrupt, to truncate traceback\u001b[0m\u001b[0;34m\u001b[0m\u001b[0;34m\u001b[0m\u001b[0m\n\u001b[0;32m-> 1219\u001b[0;31m                 \u001b[0;32mraise\u001b[0m \u001b[0mKeyboardInterrupt\u001b[0m\u001b[0;34m(\u001b[0m\u001b[0;34m\"Interrupted by user\"\u001b[0m\u001b[0;34m)\u001b[0m \u001b[0;32mfrom\u001b[0m \u001b[0;32mNone\u001b[0m\u001b[0;34m\u001b[0m\u001b[0;34m\u001b[0m\u001b[0m\n\u001b[0m\u001b[1;32m   1220\u001b[0m             \u001b[0;32mexcept\u001b[0m \u001b[0mException\u001b[0m\u001b[0;34m:\u001b[0m\u001b[0;34m\u001b[0m\u001b[0;34m\u001b[0m\u001b[0m\n\u001b[1;32m   1221\u001b[0m                 \u001b[0mself\u001b[0m\u001b[0;34m.\u001b[0m\u001b[0mlog\u001b[0m\u001b[0;34m.\u001b[0m\u001b[0mwarning\u001b[0m\u001b[0;34m(\u001b[0m\u001b[0;34m\"Invalid Message:\"\u001b[0m\u001b[0;34m,\u001b[0m \u001b[0mexc_info\u001b[0m\u001b[0;34m=\u001b[0m\u001b[0;32mTrue\u001b[0m\u001b[0;34m)\u001b[0m\u001b[0;34m\u001b[0m\u001b[0;34m\u001b[0m\u001b[0m\n",
            "\u001b[0;31mKeyboardInterrupt\u001b[0m: Interrupted by user"
          ]
        }
      ]
    },
    {
      "cell_type": "markdown",
      "source": [
        "Добавим матрицы\n"
      ],
      "metadata": {
        "id": "rixaAO6W1XAR"
      }
    },
    {
      "cell_type": "code",
      "source": [
        "import numpy as np\n",
        "import re\n",
        "from ast import literal_eval\n",
        "\n",
        "def parse_matrix(input_str):\n",
        "    \"\"\"Преобразует строку вида '[[1,2],[3,4]]' в матрицу numpy\"\"\"\n",
        "    try:\n",
        "        # Удаляем все пробелы для упрощения парсинга\n",
        "        cleaned = re.sub(r'\\s+', '', input_str)\n",
        "        # Безопасное преобразование строки в список списков\n",
        "        matrix_list = literal_eval(cleaned)\n",
        "        return np.array(matrix_list, dtype=float)\n",
        "    except (SyntaxError, ValueError, TypeError) as e:\n",
        "        raise ValueError(f\"Ошибка формата матрицы: {e}\")\n",
        "\n",
        "def matrix_operations():\n",
        "    \"\"\"Режим работы с матрицами\"\"\"\n",
        "    print(\"\\n=== Режим матричных операций ===\")\n",
        "    print(\"Доступные операции:\")\n",
        "    print(\"1: Сложение (+)\")\n",
        "    print(\"2: Вычитание (-)\")\n",
        "    print(\"3: Умножение (*)\")\n",
        "    print(\"4: Умножение на скаляр\")\n",
        "    print(\"5: Транспонирование\")\n",
        "    print(\"6: Определитель\")\n",
        "    print(\"7: Обратная матрица\")\n",
        "\n",
        "    try:\n",
        "        operation = input(\"Выберите операцию (1-7): \")\n",
        "\n",
        "        if operation in ['1', '2', '3']:\n",
        "            # Операции с двумя матрицами\n",
        "            print(\"\\nВведите первую матрицу в формате [[a,b],[c,d]]:\")\n",
        "            mat1 = parse_matrix(input())\n",
        "            print(\"Введите вторую матрицу:\")\n",
        "            mat2 = parse_matrix(input())\n",
        "\n",
        "            if operation == '1':\n",
        "                result = mat1 + mat2\n",
        "                print(\"\\nРезультат сложения:\")\n",
        "            elif operation == '2':\n",
        "                result = mat1 - mat2\n",
        "                print(\"\\nРезультат вычитания:\")\n",
        "            else:\n",
        "                result = mat1 @ mat2  # Матричное умножение\n",
        "                print(\"\\nРезультат умножения:\")\n",
        "\n",
        "        elif operation == '4':\n",
        "            # Умножение на скаляр\n",
        "            mat = parse_matrix(input(\"Введите матрицу: \"))\n",
        "            scalar = float(input(\"Введите скаляр: \"))\n",
        "            result = mat * scalar\n",
        "            print(\"\\nРезультат умножения на скаляр:\")\n",
        "\n",
        "        elif operation == '5':\n",
        "            # Транспонирование\n",
        "            mat = parse_matrix(input(\"Введите матрицу: \"))\n",
        "            result = mat.T\n",
        "            print(\"\\nТранспонированная матрица:\")\n",
        "\n",
        "        elif operation == '6':\n",
        "            # Определитель\n",
        "            mat = parse_matrix(input(\"Введите матрицу: \"))\n",
        "            result = np.linalg.det(mat)\n",
        "            print(\"\\nОпределитель матрицы:\")\n",
        "\n",
        "        elif operation == '7':\n",
        "            # Обратная матрица\n",
        "            mat = parse_matrix(input(\"Введите матрицу: \"))\n",
        "            result = np.linalg.inv(mat)\n",
        "            print(\"\\nОбратная матрица:\")\n",
        "\n",
        "        else:\n",
        "            print(\"Неверный выбор операции!\")\n",
        "            return\n",
        "\n",
        "        print(result)\n",
        "\n",
        "    except ValueError as e:\n",
        "        print(f\"Ошибка: {e}\")\n",
        "    except np.linalg.LinAlgError:\n",
        "        print(\"Ошибка: матрица вырожденная, обратной не существует\")\n",
        "\n",
        "def main():\n",
        "    \"\"\"Главное меню\"\"\"\n",
        "    while True:\n",
        "        print(\"\\n=== Главное меню ===\")\n",
        "        print(\"1: Обычный калькулятор\")\n",
        "        print(\"2: Построение графиков\")\n",
        "        print(\"3: Матричные операции\")\n",
        "        print(\"4: Выход\")\n",
        "\n",
        "        choice = input(\"Выберите режим (1-4): \")\n",
        "\n",
        "        if choice == '1':\n",
        "            calculate_expression()\n",
        "        elif choice == '2':\n",
        "            plot_function()\n",
        "        elif choice == '3':\n",
        "            matrix_operations()\n",
        "        elif choice == '4':\n",
        "            print(\"Выход из программы...\")\n",
        "            break\n",
        "        else:\n",
        "            print(\"Неверный ввод!\")\n",
        "\n",
        "if __name__ == \"__main__\":\n",
        "    print(\"=== Продвинутый калькулятор ===\")\n",
        "    print(\"Теперь с поддержкой матриц!\")\n",
        "    main()"
      ],
      "metadata": {
        "colab": {
          "base_uri": "https://localhost:8080/",
          "height": 1000
        },
        "id": "qLCiTEg01bh4",
        "outputId": "637cdb80-e3c2-4ead-a2c0-3df88559ddf7"
      },
      "execution_count": null,
      "outputs": [
        {
          "name": "stdout",
          "output_type": "stream",
          "text": [
            "=== Продвинутый калькулятор ===\n",
            "Теперь с поддержкой матриц!\n",
            "\n",
            "=== Главное меню ===\n",
            "1: Обычный калькулятор\n",
            "2: Построение графиков\n",
            "3: Матричные операции\n",
            "4: Выход\n",
            "Выберите режим (1-4): 3\n",
            "\n",
            "=== Режим матричных операций ===\n",
            "Доступные операции:\n",
            "1: Сложение (+)\n",
            "2: Вычитание (-)\n",
            "3: Умножение (*)\n",
            "4: Умножение на скаляр\n",
            "5: Транспонирование\n",
            "6: Определитель\n",
            "7: Обратная матрица\n",
            "Выберите операцию (1-7): 1\n",
            "\n",
            "Введите первую матрицу в формате [[a,b],[c,d]]:\n",
            "[[1,2],[3,4]]\n",
            "Введите вторую матрицу:\n",
            "[[5,6],[7,8]]\n",
            "\n",
            "Результат сложения:\n",
            "[[ 6.  8.]\n",
            " [10. 12.]]\n",
            "\n",
            "=== Главное меню ===\n",
            "1: Обычный калькулятор\n",
            "2: Построение графиков\n",
            "3: Матричные операции\n",
            "4: Выход\n",
            "Выберите режим (1-4): 2\n",
            "\n",
            "==============================\n",
            "Построение графика функции y = f(x)\n",
            "==============================\n",
            "Введите функцию (например: sin(x)*x): sin(x)\n",
            "Начало диапазона x: pi\n",
            "Ошибка: could not convert string to float: 'pi'\n",
            "\n",
            "=== Главное меню ===\n",
            "1: Обычный калькулятор\n",
            "2: Построение графиков\n",
            "3: Матричные операции\n",
            "4: Выход\n",
            "Выберите режим (1-4): 2*pi\n",
            "Неверный ввод!\n",
            "\n",
            "=== Главное меню ===\n",
            "1: Обычный калькулятор\n",
            "2: Построение графиков\n",
            "3: Матричные операции\n",
            "4: Выход\n",
            "Выберите режим (1-4): 2\n",
            "\n",
            "==============================\n",
            "Построение графика функции y = f(x)\n",
            "==============================\n",
            "Введите функцию (например: sin(x)*x): sin(x)\n",
            "Начало диапазона x: pi\n",
            "Ошибка: could not convert string to float: 'pi'\n",
            "\n",
            "=== Главное меню ===\n",
            "1: Обычный калькулятор\n",
            "2: Построение графиков\n",
            "3: Матричные операции\n",
            "4: Выход\n",
            "Выберите режим (1-4): 2\n",
            "\n",
            "==============================\n",
            "Построение графика функции y = f(x)\n",
            "==============================\n",
            "Введите функцию (например: sin(x)*x): sin(x)\n",
            "Начало диапазона x: 0\n",
            "Конец диапазона x: 100\n",
            "Шаг (0.1): 1\n",
            "Сохранить график? (да/нет): нет\n"
          ]
        },
        {
          "output_type": "display_data",
          "data": {
            "text/plain": [
              "<Figure size 1000x500 with 1 Axes>"
            ],
            "image/png": "[encoded data removed]"
          },
          "metadata": {}
        },
        {
          "output_type": "stream",
          "name": "stdout",
          "text": [
            "\n",
            "=== Главное меню ===\n",
            "1: Обычный калькулятор\n",
            "2: Построение графиков\n",
            "3: Матричные операции\n",
            "4: Выход\n"
          ]
        },
        {
          "output_type": "error",
          "ename": "KeyboardInterrupt",
          "evalue": "Interrupted by user",
          "traceback": [
            "\u001b[0;31m---------------------------------------------------------------------------\u001b[0m",
            "\u001b[0;31mKeyboardInterrupt\u001b[0m                         Traceback (most recent call last)",
            "\u001b[0;32m<ipython-input-10-bbe3a941c03e>\u001b[0m in \u001b[0;36m<cell line: 0>\u001b[0;34m()\u001b[0m\n\u001b[1;32m    108\u001b[0m     \u001b[0mprint\u001b[0m\u001b[0;34m(\u001b[0m\u001b[0;34m\"=== Продвинутый калькулятор ===\"\u001b[0m\u001b[0;34m)\u001b[0m\u001b[0;34m\u001b[0m\u001b[0;34m\u001b[0m\u001b[0m\n\u001b[1;32m    109\u001b[0m     \u001b[0mprint\u001b[0m\u001b[0;34m(\u001b[0m\u001b[0;34m\"Теперь с поддержкой матриц!\"\u001b[0m\u001b[0;34m)\u001b[0m\u001b[0;34m\u001b[0m\u001b[0;34m\u001b[0m\u001b[0m\n\u001b[0;32m--> 110\u001b[0;31m     \u001b[0mmain\u001b[0m\u001b[0;34m(\u001b[0m\u001b[0;34m)\u001b[0m\u001b[0;34m\u001b[0m\u001b[0;34m\u001b[0m\u001b[0m\n\u001b[0m",
            "\u001b[0;32m<ipython-input-10-bbe3a941c03e>\u001b[0m in \u001b[0;36mmain\u001b[0;34m()\u001b[0m\n\u001b[1;32m     91\u001b[0m         \u001b[0mprint\u001b[0m\u001b[0;34m(\u001b[0m\u001b[0;34m\"4: Выход\"\u001b[0m\u001b[0;34m)\u001b[0m\u001b[0;34m\u001b[0m\u001b[0;34m\u001b[0m\u001b[0m\n\u001b[1;32m     92\u001b[0m \u001b[0;34m\u001b[0m\u001b[0m\n\u001b[0;32m---> 93\u001b[0;31m         \u001b[0mchoice\u001b[0m \u001b[0;34m=\u001b[0m \u001b[0minput\u001b[0m\u001b[0;34m(\u001b[0m\u001b[0;34m\"Выберите режим (1-4): \"\u001b[0m\u001b[0;34m)\u001b[0m\u001b[0;34m\u001b[0m\u001b[0;34m\u001b[0m\u001b[0m\n\u001b[0m\u001b[1;32m     94\u001b[0m \u001b[0;34m\u001b[0m\u001b[0m\n\u001b[1;32m     95\u001b[0m         \u001b[0;32mif\u001b[0m \u001b[0mchoice\u001b[0m \u001b[0;34m==\u001b[0m \u001b[0;34m'1'\u001b[0m\u001b[0;34m:\u001b[0m\u001b[0;34m\u001b[0m\u001b[0;34m\u001b[0m\u001b[0m\n",
            "\u001b[0;32m/usr/local/lib/python3.11/dist-packages/ipykernel/kernelbase.py\u001b[0m in \u001b[0;36mraw_input\u001b[0;34m(self, prompt)\u001b[0m\n\u001b[1;32m   1175\u001b[0m                 \u001b[0;34m\"raw_input was called, but this frontend does not support input requests.\"\u001b[0m\u001b[0;34m\u001b[0m\u001b[0;34m\u001b[0m\u001b[0m\n\u001b[1;32m   1176\u001b[0m             )\n\u001b[0;32m-> 1177\u001b[0;31m         return self._input_request(\n\u001b[0m\u001b[1;32m   1178\u001b[0m             \u001b[0mstr\u001b[0m\u001b[0;34m(\u001b[0m\u001b[0mprompt\u001b[0m\u001b[0;34m)\u001b[0m\u001b[0;34m,\u001b[0m\u001b[0;34m\u001b[0m\u001b[0;34m\u001b[0m\u001b[0m\n\u001b[1;32m   1179\u001b[0m             \u001b[0mself\u001b[0m\u001b[0;34m.\u001b[0m\u001b[0m_parent_ident\u001b[0m\u001b[0;34m[\u001b[0m\u001b[0;34m\"shell\"\u001b[0m\u001b[0;34m]\u001b[0m\u001b[0;34m,\u001b[0m\u001b[0;34m\u001b[0m\u001b[0;34m\u001b[0m\u001b[0m\n",
            "\u001b[0;32m/usr/local/lib/python3.11/dist-packages/ipykernel/kernelbase.py\u001b[0m in \u001b[0;36m_input_request\u001b[0;34m(self, prompt, ident, parent, password)\u001b[0m\n\u001b[1;32m   1217\u001b[0m             \u001b[0;32mexcept\u001b[0m \u001b[0mKeyboardInterrupt\u001b[0m\u001b[0;34m:\u001b[0m\u001b[0;34m\u001b[0m\u001b[0;34m\u001b[0m\u001b[0m\n\u001b[1;32m   1218\u001b[0m                 \u001b[0;31m# re-raise KeyboardInterrupt, to truncate traceback\u001b[0m\u001b[0;34m\u001b[0m\u001b[0;34m\u001b[0m\u001b[0m\n\u001b[0;32m-> 1219\u001b[0;31m                 \u001b[0;32mraise\u001b[0m \u001b[0mKeyboardInterrupt\u001b[0m\u001b[0;34m(\u001b[0m\u001b[0;34m\"Interrupted by user\"\u001b[0m\u001b[0;34m)\u001b[0m \u001b[0;32mfrom\u001b[0m \u001b[0;32mNone\u001b[0m\u001b[0;34m\u001b[0m\u001b[0;34m\u001b[0m\u001b[0m\n\u001b[0m\u001b[1;32m   1220\u001b[0m             \u001b[0;32mexcept\u001b[0m \u001b[0mException\u001b[0m\u001b[0;34m:\u001b[0m\u001b[0;34m\u001b[0m\u001b[0;34m\u001b[0m\u001b[0m\n\u001b[1;32m   1221\u001b[0m                 \u001b[0mself\u001b[0m\u001b[0;34m.\u001b[0m\u001b[0mlog\u001b[0m\u001b[0;34m.\u001b[0m\u001b[0mwarning\u001b[0m\u001b[0;34m(\u001b[0m\u001b[0;34m\"Invalid Message:\"\u001b[0m\u001b[0;34m,\u001b[0m \u001b[0mexc_info\u001b[0m\u001b[0;34m=\u001b[0m\u001b[0;32mTrue\u001b[0m\u001b[0;34m)\u001b[0m\u001b[0;34m\u001b[0m\u001b[0;34m\u001b[0m\u001b[0m\n",
            "\u001b[0;31mKeyboardInterrupt\u001b[0m: Interrupted by user"
          ]
        }
      ]
    },
    {
      "cell_type": "markdown",
      "source": [
        "Калькулятор можно улучшать и дальше."
      ],
      "metadata": {
        "id": "tho5ccjm1cMH"
      }
    },
    {
      "cell_type": "markdown",
      "source": [
        "Попробуем смоделировать простейшую транспортную задачу\n"
      ],
      "metadata": {
        "id": "fooVgQ-61jXl"
      }
    },
    {
      "cell_type": "code",
      "source": [
        "import numpy as np\n",
        "from scipy.optimize import linprog\n",
        "\n",
        "def input_matrix(prompt, rows, cols):\n",
        "    print(prompt)\n",
        "    return [list(map(int, input().split())) for _ in range(rows)]\n",
        "\n",
        "def main():\n",
        "    # Ввод размерности задачи\n",
        "    m = int(input(\"Введите количество поставщиков: \"))\n",
        "    n = int(input(\"Введите количество потребителей: \"))\n",
        "\n",
        "    # Ввод данных\n",
        "    supply = list(map(int, input(\"Введите объемы производства через пробел: \").split()))\n",
        "    demand = list(map(int, input(\"Введите объемы потребления через пробел: \").split()))\n",
        "\n",
        "    # Проверка баланса\n",
        "    if sum(supply) != sum(demand):\n",
        "        print(\"Ошибка: задача не сбалансирована!\")\n",
        "        return\n",
        "\n",
        "    # Ввод матрицы стоимостей\n",
        "    print(\"\\nВведите матрицу стоимостей (каждая строка через пробел):\")\n",
        "    cost_matrix = input_matrix(\"\", m, n)\n",
        "    cost = np.array(cost_matrix).flatten()\n",
        "\n",
        "    # Формирование ограничений\n",
        "    A_eq = []\n",
        "    # Ограничения по предложению\n",
        "    for i in range(m):\n",
        "        row = [0]*(m*n)\n",
        "        row[i*n : (i+1)*n] = [1]*n\n",
        "        A_eq.append(row)\n",
        "\n",
        "    # Ограничения по спросу\n",
        "    for j in range(n):\n",
        "        row = [0]*(m*n)\n",
        "        for i in range(m):\n",
        "            row[i*n + j] = 1\n",
        "        A_eq.append(row)\n",
        "\n",
        "    b_eq = supply + demand\n",
        "\n",
        "    # Решение задачи\n",
        "    result = linprog(\n",
        "        c=cost,\n",
        "        A_eq=A_eq,\n",
        "        b_eq=b_eq,\n",
        "        method='highs'\n",
        "    )\n",
        "\n",
        "    # Вывод результатов\n",
        "    if not result.success:\n",
        "        print(\"\\nОптимальное решение не найдено!\")\n",
        "        return\n",
        "\n",
        "    print(f\"\\nМинимальные затраты: {round(result.fun)}\")\n",
        "    print(\"\\nОптимальный план перевозок:\")\n",
        "    for i in range(m):\n",
        "        for j in range(n):\n",
        "            value = round(result.x[i*n + j])\n",
        "            if value > 0:\n",
        "                print(f\"Поставщик {i+1} → Потребитель {j+1}: {value} ед.\")\n",
        "\n",
        "if __name__ == \"__main__\":\n",
        "    main()"
      ],
      "metadata": {
        "colab": {
          "base_uri": "https://localhost:8080/"
        },
        "id": "mze8Rwc_4Ddq",
        "outputId": "fe868156-1dec-4a24-f775-1534b3b6adfd"
      },
      "execution_count": null,
      "outputs": [
        {
          "output_type": "stream",
          "name": "stdout",
          "text": [
            "Введите количество поставщиков: 3\n",
            "Введите количество потребителей: 3\n",
            "Введите объемы производства через пробел: 250 200 100\n",
            "Введите объемы потребления через пробел: 150 150 250\n",
            "\n",
            "Введите матрицу стоимостей (каждая строка через пробел):\n",
            "\n",
            "3 5 6\n",
            "2 1 8\n",
            "9 7 6\n",
            "\n",
            "Минимальные затраты: 2050\n",
            "\n",
            "Оптимальный план перевозок:\n",
            "Поставщик 1 → Потребитель 1: 100 ед.\n",
            "Поставщик 1 → Потребитель 3: 150 ед.\n",
            "Поставщик 2 → Потребитель 1: 50 ед.\n",
            "Поставщик 2 → Потребитель 2: 150 ед.\n",
            "Поставщик 3 → Потребитель 3: 100 ед.\n"
          ]
        }
      ]
    },
    {
      "cell_type": "markdown",
      "source": [
        "Добавим графическую форму представления результатов\n"
      ],
      "metadata": {
        "id": "wQCZ4fGb5Wmq"
      }
    },
    {
      "cell_type": "code",
      "source": [
        "import numpy as np\n",
        "from scipy.optimize import linprog\n",
        "import matplotlib.pyplot as plt\n",
        "\n",
        "def input_matrix(prompt, rows, cols):\n",
        "    print(prompt)\n",
        "    return [list(map(int, input().split())) for _ in range(rows)]\n",
        "\n",
        "def plot_transportation(suppliers, consumers, matrix):\n",
        "    fig, ax = plt.subplots(figsize=(10, 6))\n",
        "\n",
        "    # Создаем тепловую карту\n",
        "    im = ax.imshow(matrix, cmap=\"YlGn\")\n",
        "\n",
        "    # Настройки отображения\n",
        "    ax.set_xticks(np.arange(len(consumers)))\n",
        "    ax.set_yticks(np.arange(len(suppliers)))\n",
        "    ax.set_xticklabels([f\"Потр. {i+1}\" for i in range(len(consumers))])\n",
        "    ax.set_yticklabels([f\"Пост. {i+1}\" for i in range(len(suppliers))])\n",
        "\n",
        "    # Добавляем подписи значений\n",
        "    for i in range(len(suppliers)):\n",
        "        for j in range(len(consumers)):\n",
        "            text = ax.text(j, i, matrix[i][j],\n",
        "                        ha=\"center\", va=\"center\", color=\"black\")\n",
        "\n",
        "    plt.title(\"Оптимальный план перевозок\")\n",
        "    plt.colorbar(im, label=\"Количество единиц\")\n",
        "    plt.tight_layout()\n",
        "    plt.show()\n",
        "\n",
        "def main():\n",
        "    m = int(input(\"Введите количество поставщиков: \"))\n",
        "    n = int(input(\"Введите количество потребителей: \"))\n",
        "\n",
        "    supply = list(map(int, input(\"Введите объемы производства через пробел: \").split()))\n",
        "    demand = list(map(int, input(\"Введите объемы потребления через пробел: \").split()))\n",
        "\n",
        "    if sum(supply) != sum(demand):\n",
        "        print(\"Ошибка: задача не сбалансирована!\")\n",
        "        return\n",
        "\n",
        "    print(\"\\nВведите матрицу стоимостей (каждая строка через пробел):\")\n",
        "    cost_matrix = input_matrix(\"\", m, n)\n",
        "    cost = np.array(cost_matrix).flatten()\n",
        "\n",
        "    A_eq = []\n",
        "    for i in range(m):\n",
        "        row = [0]*(m*n)\n",
        "        row[i*n : (i+1)*n] = [1]*n\n",
        "        A_eq.append(row)\n",
        "\n",
        "    for j in range(n):\n",
        "        row = [0]*(m*n)\n",
        "        for i in range(m):\n",
        "            row[i*n + j] = 1\n",
        "        A_eq.append(row)\n",
        "\n",
        "    b_eq = supply + demand\n",
        "\n",
        "    result = linprog(c=cost, A_eq=A_eq, b_eq=b_eq, method='highs')\n",
        "\n",
        "    if not result.success:\n",
        "        print(\"\\nОптимальное решение не найдено!\")\n",
        "        return\n",
        "\n",
        "    print(f\"\\nМинимальные затраты: {round(result.fun)}\")\n",
        "\n",
        "    # Формируем матрицу перевозок\n",
        "    transport_matrix = np.round(result.x.reshape(m, n)).astype(int)\n",
        "\n",
        "    print(\"\\nМатрица перевозок:\")\n",
        "    print(transport_matrix)\n",
        "\n",
        "    # Визуализация\n",
        "    try:\n",
        "        plot_transportation(supply, demand, transport_matrix)\n",
        "    except ImportError:\n",
        "        print(\"\\nДля отображения графиков установите matplotlib: pip install matplotlib\")\n",
        "\n",
        "if __name__ == \"__main__\":\n",
        "    main()"
      ],
      "metadata": {
        "colab": {
          "base_uri": "https://localhost:8080/",
          "height": 902
        },
        "id": "3cB65Vin40lw",
        "outputId": "22304647-6f0d-49eb-8b3a-2d1311588817"
      },
      "execution_count": null,
      "outputs": [
        {
          "output_type": "stream",
          "name": "stdout",
          "text": [
            "Введите количество поставщиков: 3\n",
            "Введите количество потребителей: 3\n",
            "Введите объемы производства через пробел: 100 200 100\n",
            "Введите объемы потребления через пробел: 150 150 100\n",
            "\n",
            "Введите матрицу стоимостей (каждая строка через пробел):\n",
            "\n",
            "2 4 6\n",
            "1 2 3\n",
            "5 7 8\n",
            "\n",
            "Минимальные затраты: 1300\n",
            "\n",
            "Матрица перевозок:\n",
            "[[ 50  50   0]\n",
            " [  0 100 100]\n",
            " [100   0   0]]\n"
          ]
        },
        {
          "output_type": "display_data",
          "data": {
            "text/plain": [
              "<Figure size 1000x600 with 2 Axes>"
            ],
            "image/png": "[encoded data removed]"
          },
          "metadata": {}
        }
      ]
    },
    {
      "cell_type": "markdown",
      "source": [
        "Попробуем заменить тепловую карту на граф. Для этого нужно установить еще ряд библиотек.\n"
      ],
      "metadata": {
        "id": "4YmhXHyS6KNJ"
      }
    },
    {
      "cell_type": "code",
      "source": [
        "pip install networkx matplotlib scipy numpy"
      ],
      "metadata": {
        "colab": {
          "base_uri": "https://localhost:8080/"
        },
        "id": "B8xIHc3T6SvB",
        "outputId": "5fa79afc-62f0-48c2-b86a-236e9bce296b"
      },
      "execution_count": null,
      "outputs": [
        {
          "output_type": "stream",
          "name": "stdout",
          "text": [
            "Requirement already satisfied: networkx in /usr/local/lib/python3.11/dist-packages (3.4.2)\n",
            "Requirement already satisfied: matplotlib in /usr/local/lib/python3.11/dist-packages (3.10.0)\n",
            "Requirement already satisfied: scipy in /usr/local/lib/python3.11/dist-packages (1.14.1)\n",
            "Requirement already satisfied: numpy in /usr/local/lib/python3.11/dist-packages (2.0.2)\n",
            "Requirement already satisfied: contourpy>=1.0.1 in /usr/local/lib/python3.11/dist-packages (from matplotlib) (1.3.1)\n",
            "Requirement already satisfied: cycler>=0.10 in /usr/local/lib/python3.11/dist-packages (from matplotlib) (0.12.1)\n",
            "Requirement already satisfied: fonttools>=4.22.0 in /usr/local/lib/python3.11/dist-packages (from matplotlib) (4.56.0)\n",
            "Requirement already satisfied: kiwisolver>=1.3.1 in /usr/local/lib/python3.11/dist-packages (from matplotlib) (1.4.8)\n",
            "Requirement already satisfied: packaging>=20.0 in /usr/local/lib/python3.11/dist-packages (from matplotlib) (24.2)\n",
            "Requirement already satisfied: pillow>=8 in /usr/local/lib/python3.11/dist-packages (from matplotlib) (11.1.0)\n",
            "Requirement already satisfied: pyparsing>=2.3.1 in /usr/local/lib/python3.11/dist-packages (from matplotlib) (3.2.3)\n",
            "Requirement already satisfied: python-dateutil>=2.7 in /usr/local/lib/python3.11/dist-packages (from matplotlib) (2.8.2)\n",
            "Requirement already satisfied: six>=1.5 in /usr/local/lib/python3.11/dist-packages (from python-dateutil>=2.7->matplotlib) (1.17.0)\n"
          ]
        }
      ]
    },
    {
      "cell_type": "code",
      "source": [
        "import numpy as np\n",
        "from scipy.optimize import linprog\n",
        "import matplotlib.pyplot as plt\n",
        "import networkx as nx\n",
        "\n",
        "def input_matrix(prompt, rows, cols):\n",
        "    print(prompt)\n",
        "    return [list(map(int, input().split())) for _ in range(rows)]\n",
        "\n",
        "def plot_transportation_graph(suppliers, consumers, transport_matrix):\n",
        "    try:\n",
        "        G = nx.DiGraph()\n",
        "\n",
        "        # Добавляем узлы\n",
        "        for i, s in enumerate(suppliers):\n",
        "            G.add_node(f\"Поставщик {i+1}\", subset=0, size=s+100)\n",
        "        for j, d in enumerate(consumers):\n",
        "            G.add_node(f\"Потребитель {j+1}\", subset=1, size=d+100)\n",
        "\n",
        "        # Добавляем ребра с весами\n",
        "        for i in range(len(suppliers)):\n",
        "            for j in range(len(consumers)):\n",
        "                if transport_matrix[i][j] > 0:\n",
        "                    G.add_edge(\n",
        "                        f\"Поставщик {i+1}\",\n",
        "                        f\"Потребитель {j+1}\",\n",
        "                        weight=transport_matrix[i][j]\n",
        "                    )\n",
        "\n",
        "        # Настройка позиций\n",
        "        pos = nx.bipartite_layout(G, [f\"Поставщик {i+1}\" for i in range(len(suppliers))])\n",
        "\n",
        "        # Рисуем граф\n",
        "        plt.figure(figsize=(12, 8))\n",
        "\n",
        "        # Размеры узлов\n",
        "        node_sizes = [G.nodes[n]['size'] for n in G.nodes]\n",
        "\n",
        "        # Цвета узлов\n",
        "        node_colors = ['#1f78b4' if 'Поставщик' in n else '#33a02c' for n in G.nodes]\n",
        "\n",
        "        # Рисуем узлы\n",
        "        nx.draw_networkx_nodes(\n",
        "            G, pos,\n",
        "            node_size=node_sizes,\n",
        "            node_color=node_colors,\n",
        "            alpha=0.9\n",
        "        )\n",
        "\n",
        "        # Рисуем ребра\n",
        "        edge_weights = [G.edges[e]['weight']*0.5 for e in G.edges]\n",
        "        nx.draw_networkx_edges(\n",
        "            G, pos,\n",
        "            width=edge_weights,\n",
        "            edge_color='#666666',\n",
        "            alpha=0.6,\n",
        "            arrowstyle='-|>',\n",
        "            arrowsize=15\n",
        "        )\n",
        "\n",
        "        # Подписи узлов\n",
        "        labels = {n: f\"{n}\\n({suppliers[i] if i<len(suppliers) else consumers[i-len(suppliers)]})\"\n",
        "                 for i, n in enumerate(G.nodes)}\n",
        "        nx.draw_networkx_labels(\n",
        "            G, pos,\n",
        "            labels=labels,\n",
        "            font_size=10,\n",
        "            font_family='Arial'\n",
        "        )\n",
        "\n",
        "        # Подписи ребер\n",
        "        edge_labels = {(u, v): f\"{G.edges[(u,v)]['weight']}\"\n",
        "                      for u, v in G.edges}\n",
        "        nx.draw_networkx_edge_labels(\n",
        "            G, pos,\n",
        "            edge_labels=edge_labels,\n",
        "            font_size=8,\n",
        "            label_pos=0.5\n",
        "        )\n",
        "\n",
        "        plt.title(\"Оптимальные транспортные потоки\")\n",
        "        plt.box(False)\n",
        "        plt.show()\n",
        "\n",
        "    except ImportError:\n",
        "        print(\"Для отображения графа установите networkx: pip install networkx\")\n",
        "\n",
        "def main():\n",
        "    m = int(input(\"Введите количество поставщиков: \"))\n",
        "    n = int(input(\"Введите количество потребителей: \"))\n",
        "\n",
        "    supply = list(map(int, input(\"Введите объемы производства через пробел: \").split()))\n",
        "    demand = list(map(int, input(\"Введите объемы потребления через пробел: \").split()))\n",
        "\n",
        "    if sum(supply) != sum(demand):\n",
        "        print(\"Ошибка: задача не сбалансирована!\")\n",
        "        return\n",
        "\n",
        "    print(\"\\nВведите матрицу стоимостей (каждая строка через пробел):\")\n",
        "    cost_matrix = input_matrix(\"\", m, n)\n",
        "    cost = np.array(cost_matrix).flatten()\n",
        "\n",
        "    A_eq = []\n",
        "    for i in range(m):\n",
        "        row = [0]*(m*n)\n",
        "        row[i*n : (i+1)*n] = [1]*n\n",
        "        A_eq.append(row)\n",
        "\n",
        "    for j in range(n):\n",
        "        row = [0]*(m*n)\n",
        "        for i in range(m):\n",
        "            row[i*n + j] = 1\n",
        "        A_eq.append(row)\n",
        "\n",
        "    b_eq = supply + demand\n",
        "\n",
        "    result = linprog(c=cost, A_eq=A_eq, b_eq=b_eq, method='highs')\n",
        "\n",
        "    if not result.success:\n",
        "        print(\"\\nОптимальное решение не найдено!\")\n",
        "        return\n",
        "\n",
        "    print(f\"\\nМинимальные затраты: {round(result.fun)}\")\n",
        "\n",
        "    transport_matrix = np.round(result.x.reshape(m, n)).astype(int)\n",
        "    print(\"\\nМатрица перевозок:\")\n",
        "    print(transport_matrix)\n",
        "\n",
        "    # Визуализация графа\n",
        "    plot_transportation_graph(supply, demand, transport_matrix)\n",
        "\n",
        "if __name__ == \"__main__\":\n",
        "    main()"
      ],
      "metadata": {
        "colab": {
          "base_uri": "https://localhost:8080/",
          "height": 1000
        },
        "id": "J59wMsti6S4z",
        "outputId": "02c66c3c-7681-43b6-84db-66405775d3bb"
      },
      "execution_count": null,
      "outputs": [
        {
          "name": "stdout",
          "output_type": "stream",
          "text": [
            "Введите количество поставщиков: 3\n",
            "Введите количество потребителей: 3\n",
            "Введите объемы производства через пробел: 100 150 150\n",
            "Введите объемы потребления через пробел: 200 100 100\n",
            "\n",
            "Введите матрицу стоимостей (каждая строка через пробел):\n",
            "\n",
            "5 6 7\n",
            "7 8 9\n",
            "1 4 5\n"
          ]
        },
        {
          "output_type": "stream",
          "name": "stderr",
          "text": [
            "WARNING:matplotlib.font_manager:findfont: Font family 'Arial' not found.\n",
            "WARNING:matplotlib.font_manager:findfont: Font family 'Arial' not found.\n",
            "WARNING:matplotlib.font_manager:findfont: Font family 'Arial' not found.\n",
            "WARNING:matplotlib.font_manager:findfont: Font family 'Arial' not found.\n",
            "WARNING:matplotlib.font_manager:findfont: Font family 'Arial' not found.\n",
            "WARNING:matplotlib.font_manager:findfont: Font family 'Arial' not found.\n",
            "WARNING:matplotlib.font_manager:findfont: Font family 'Arial' not found.\n",
            "WARNING:matplotlib.font_manager:findfont: Font family 'Arial' not found.\n",
            "WARNING:matplotlib.font_manager:findfont: Font family 'Arial' not found.\n",
            "WARNING:matplotlib.font_manager:findfont: Font family 'Arial' not found.\n",
            "WARNING:matplotlib.font_manager:findfont: Font family 'Arial' not found.\n",
            "WARNING:matplotlib.font_manager:findfont: Font family 'Arial' not found.\n",
            "WARNING:matplotlib.font_manager:findfont: Font family 'Arial' not found.\n",
            "WARNING:matplotlib.font_manager:findfont: Font family 'Arial' not found.\n"
          ]
        },
        {
          "output_type": "stream",
          "name": "stdout",
          "text": [
            "\n",
            "Минимальные затраты: 2000\n",
            "\n",
            "Матрица перевозок:\n",
            "[[  0   0 100]\n",
            " [ 50 100   0]\n",
            " [150   0   0]]\n"
          ]
        },
        {
          "output_type": "stream",
          "name": "stderr",
          "text": [
            "WARNING:matplotlib.font_manager:findfont: Font family 'Arial' not found.\n",
            "WARNING:matplotlib.font_manager:findfont: Font family 'Arial' not found.\n",
            "WARNING:matplotlib.font_manager:findfont: Font family 'Arial' not found.\n",
            "WARNING:matplotlib.font_manager:findfont: Font family 'Arial' not found.\n",
            "WARNING:matplotlib.font_manager:findfont: Font family 'Arial' not found.\n",
            "WARNING:matplotlib.font_manager:findfont: Font family 'Arial' not found.\n",
            "WARNING:matplotlib.font_manager:findfont: Font family 'Arial' not found.\n",
            "WARNING:matplotlib.font_manager:findfont: Font family 'Arial' not found.\n",
            "WARNING:matplotlib.font_manager:findfont: Font family 'Arial' not found.\n",
            "WARNING:matplotlib.font_manager:findfont: Font family 'Arial' not found.\n",
            "WARNING:matplotlib.font_manager:findfont: Font family 'Arial' not found.\n",
            "WARNING:matplotlib.font_manager:findfont: Font family 'Arial' not found.\n",
            "WARNING:matplotlib.font_manager:findfont: Font family 'Arial' not found.\n",
            "WARNING:matplotlib.font_manager:findfont: Font family 'Arial' not found.\n",
            "WARNING:matplotlib.font_manager:findfont: Font family 'Arial' not found.\n",
            "WARNING:matplotlib.font_manager:findfont: Font family 'Arial' not found.\n",
            "WARNING:matplotlib.font_manager:findfont: Font family 'Arial' not found.\n",
            "WARNING:matplotlib.font_manager:findfont: Font family 'Arial' not found.\n"
          ]
        },
        {
          "output_type": "display_data",
          "data": {
            "text/plain": [
              "<Figure size 1200x800 with 1 Axes>"
            ],
            "image/png": "[encoded data removed]"
          },
          "metadata": {}
        }
      ]
    },
    {
      "cell_type": "markdown",
      "source": [
        "Попробуем разместить поставщиков сверху, а потребителей снизу.\n"
      ],
      "metadata": {
        "id": "ocSk9i2qomQH"
      }
    },
    {
      "cell_type": "code",
      "source": [
        "import numpy as np\n",
        "from scipy.optimize import linprog\n",
        "import matplotlib.pyplot as plt\n",
        "import networkx as nx\n",
        "\n",
        "def input_matrix(prompt, rows, cols):\n",
        "    print(prompt)\n",
        "    matrix = []\n",
        "    for i in range(rows):\n",
        "        while True:\n",
        "            row = input(f\"Строка {i+1}: \").split()\n",
        "            if len(row) != cols:\n",
        "                print(f\"Ошибка: требуется {cols} значений!\")\n",
        "                continue\n",
        "            try:\n",
        "                matrix.append(list(map(int, row)))\n",
        "                break\n",
        "            except ValueError:\n",
        "                print(\"Вводите только числа!\")\n",
        "    return matrix\n",
        "\n",
        "def plot_transportation_graph(suppliers, consumers, transport_matrix):\n",
        "    try:\n",
        "        G = nx.DiGraph()\n",
        "\n",
        "        # Добавляем узлы с атрибутами\n",
        "        for i, s in enumerate(suppliers):\n",
        "            G.add_node(f\"Поставщик {i+1}\", type='supplier', value=s)\n",
        "        for j, d in enumerate(consumers):\n",
        "            G.add_node(f\"Потребитель {j+1}\", type='consumer', value=d)\n",
        "\n",
        "        # Добавляем ребра\n",
        "        for i in range(len(suppliers)):\n",
        "            for j in range(len(consumers)):\n",
        "                if transport_matrix[i][j] > 0:\n",
        "                    G.add_edge(\n",
        "                        f\"Поставщик {i+1}\",\n",
        "                        f\"Потребитель {j+1}\",\n",
        "                        weight=transport_matrix[i][j]\n",
        "                    )\n",
        "\n",
        "        # Позиционирование узлов\n",
        "        pos = {}\n",
        "        x_spacing = 2.0  # Горизонтальное расстояние\n",
        "\n",
        "        # Поставщики сверху\n",
        "        for i in range(len(suppliers)):\n",
        "            pos[f\"Поставщик {i+1}\"] = (i * x_spacing - x_spacing/2, 1)\n",
        "\n",
        "        # Потребители снизу\n",
        "        for j in range(len(consumers)):\n",
        "            pos[f\"Потребитель {j+1}\"] = (j * x_spacing - x_spacing/2, 0)\n",
        "\n",
        "        plt.figure(figsize=(12, 8))\n",
        "\n",
        "        # Рисуем узлы\n",
        "        nx.draw_networkx_nodes(\n",
        "            G, pos,\n",
        "            node_size=2500,\n",
        "            node_color=['#1f78b4' if 'Поставщик' in n else '#33a02c' for n in G.nodes],\n",
        "            alpha=0.9,\n",
        "            edgecolors='black',\n",
        "            linewidths=2\n",
        "        )\n",
        "\n",
        "        # Рисуем ребра с подписями по центру\n",
        "        edge_labels = nx.get_edge_attributes(G, 'weight')\n",
        "\n",
        "      # Кастомное рисование подписей с обработкой пересечений\n",
        "        edge_labels = nx.get_edge_attributes(G, 'weight')\n",
        "\n",
        "        for edge in G.edges():\n",
        "            u, v = edge\n",
        "            x1, y1 = pos[u]\n",
        "            x2, y2 = pos[v]\n",
        "\n",
        "            # Расчет параметров для подписи\n",
        "            dx = x2 - x1\n",
        "            dy = y2 - y1\n",
        "            angle = np.degrees(np.arctan2(dy, dx))\n",
        "\n",
        "            # Смещение для проблемных связей\n",
        "            label_pos = 0.5\n",
        "            if (u == \"Поставщик 1\" and v == \"Потребитель 3\") or \\\n",
        "               (u == \"Поставщик 2\" and v == \"Потребитель 2\"):\n",
        "                label_pos = 0.65 if u == \"Поставщик 1\" else 0.35\n",
        "\n",
        "            # Позиция подписи\n",
        "            x = x1 + label_pos*dx\n",
        "            y = y1 + label_pos*dy\n",
        "\n",
        "            # Рисование подписи\n",
        "            plt.annotate(\n",
        "                text=edge_labels[(u,v)],\n",
        "                xy=(x, y),\n",
        "                ha='center',\n",
        "                va='center',\n",
        "                rotation=angle,\n",
        "                fontsize=12,\n",
        "                fontweight='bold',\n",
        "                color='#8B0000',\n",
        "                bbox=dict(\n",
        "                    facecolor='white',\n",
        "                    edgecolor='none',\n",
        "                    alpha=0.8,\n",
        "                    boxstyle='round,pad=0.2'\n",
        "                )\n",
        "            )\n",
        "        # Затем рисуем стрелки поверх подписей\n",
        "        nx.draw_networkx_edges(\n",
        "            G, pos,\n",
        "            width=[0.5 + w*0.03 for w in edge_labels.values()],\n",
        "            edge_color='#666666',\n",
        "            alpha=0.9,\n",
        "            arrowstyle='-|>',\n",
        "            arrowsize=25,\n",
        "            connectionstyle='arc3,rad=0'  # Прямые линии\n",
        "        )\n",
        "\n",
        "        # Подписи узлов\n",
        "        labels = {n: f\"{n}\\n({G.nodes[n]['value']})\" for n in G.nodes}\n",
        "        nx.draw_networkx_labels(\n",
        "            G, pos,\n",
        "            labels=labels,\n",
        "            font_size=11,\n",
        "            font_family='Arial',\n",
        "            verticalalignment='center',\n",
        "            horizontalalignment='center'\n",
        "        )\n",
        "\n",
        "        # Настройки отображения\n",
        "        plt.title(\"Оптимальные транспортные потоки\\n\", fontsize=14, pad=20)\n",
        "        plt.xlim(-x_spacing, (max(len(suppliers), len(consumers))-1)*x_spacing)\n",
        "        plt.ylim(-0.5, 1.5)\n",
        "        plt.axis('off')\n",
        "        plt.tight_layout()\n",
        "        plt.show()\n",
        "\n",
        "    except Exception as e:\n",
        "        print(f\"Ошибка визуализации: {e}\")\n",
        "\n",
        "def main():\n",
        "    try:\n",
        "        print(\"\\n\" + \"=\"*40)\n",
        "        print(\" Ввод данных \".center(40, \"=\"))\n",
        "        m = int(input(\"Количество поставщиков: \"))\n",
        "        n = int(input(\"Количество потребителей: \"))\n",
        "\n",
        "        # Ввод предложения\n",
        "        while True:\n",
        "            supply = input(\"Объемы производства (через пробел): \").split()\n",
        "            if len(supply) != m:\n",
        "                print(f\"Требуется {m} значений!\")\n",
        "                continue\n",
        "            try:\n",
        "                supply = list(map(int, supply))\n",
        "                break\n",
        "            except:\n",
        "                print(\"Ошибка конвертации!\")\n",
        "\n",
        "        # Ввод спроса\n",
        "        while True:\n",
        "            demand = input(\"Объемы потребления (через пробел): \").split()\n",
        "            if len(demand) != n:\n",
        "                print(f\"Требуется {n} значений!\")\n",
        "                continue\n",
        "            try:\n",
        "                demand = list(map(int, demand))\n",
        "                break\n",
        "            except:\n",
        "                print(\"Ошибка конвертации!\")\n",
        "\n",
        "        # Проверка баланса\n",
        "        if sum(supply) != sum(demand):\n",
        "            print(f\"Ошибка: сумма предложения ({sum(supply)}) ≠ спроса ({sum(demand)})!\")\n",
        "            return\n",
        "\n",
        "        # Ввод матрицы стоимостей\n",
        "        print(\"\\n\" + \"-\"*40)\n",
        "        cost_matrix = input_matrix(\"Матрица стоимостей:\", m, n)\n",
        "        cost = np.array(cost_matrix).flatten()\n",
        "\n",
        "        # Формирование ограничений\n",
        "        A_eq = []\n",
        "        for i in range(m):\n",
        "            row = [0]*(m*n)\n",
        "            row[i*n : (i+1)*n] = [1]*n\n",
        "            A_eq.append(row)\n",
        "\n",
        "        for j in range(n):\n",
        "            row = [0]*(m*n)\n",
        "            for i in range(m):\n",
        "                row[i*n + j] = 1\n",
        "            A_eq.append(row)\n",
        "\n",
        "        b_eq = supply + demand\n",
        "\n",
        "        # Решение задачи\n",
        "        print(\"\\n\" + \"=\"*40)\n",
        "        print(\" Решение задачи \".center(40, \"=\"))\n",
        "        result = linprog(\n",
        "            c=cost,\n",
        "            A_eq=A_eq,\n",
        "            b_eq=b_eq,\n",
        "            method='highs'\n",
        "        )\n",
        "\n",
        "        if not result.success:\n",
        "            print(f\"\\nОшибка: {result.message}\")\n",
        "            return\n",
        "\n",
        "        # Обработка результатов\n",
        "        transport_matrix = np.round(result.x.reshape(m, n)).astype(int)\n",
        "        print(f\"\\nМинимальные затраты: {round(result.fun)}\")\n",
        "        print(\"\\nМатрица перевозок:\")\n",
        "        print(transport_matrix)\n",
        "\n",
        "        # Визуализация\n",
        "        plot_transportation_graph(supply, demand, transport_matrix)\n",
        "\n",
        "    except Exception as e:\n",
        "        print(f\"\\nКритическая ошибка: {e}\")\n",
        "\n",
        "if __name__ == \"__main__\":\n",
        "    main()"
      ],
      "metadata": {
        "colab": {
          "base_uri": "https://localhost:8080/",
          "height": 1000
        },
        "id": "yfCGv_wwpV5f",
        "outputId": "83313e5b-eb6d-4e96-b3b8-2f859bd7b8ce"
      },
      "execution_count": null,
      "outputs": [
        {
          "name": "stdout",
          "output_type": "stream",
          "text": [
            "\n",
            "========================================\n",
            "============= Ввод данных ==============\n",
            "Количество поставщиков: 3\n",
            "Количество потребителей: 3\n",
            "Объемы производства (через пробел): 100 50 100\n",
            "Объемы потребления (через пробел): 50 50 150\n",
            "\n",
            "----------------------------------------\n",
            "Матрица стоимостей:\n",
            "Строка 1: 5 7 8\n",
            "Строка 2: 1 3 3\n",
            "Строка 3: 9 4 4\n"
          ]
        },
        {
          "output_type": "stream",
          "name": "stderr",
          "text": [
            "WARNING:matplotlib.font_manager:findfont: Font family 'Arial' not found.\n",
            "WARNING:matplotlib.font_manager:findfont: Font family 'Arial' not found.\n",
            "WARNING:matplotlib.font_manager:findfont: Font family 'Arial' not found.\n",
            "WARNING:matplotlib.font_manager:findfont: Font family 'Arial' not found.\n",
            "WARNING:matplotlib.font_manager:findfont: Font family 'Arial' not found.\n",
            "WARNING:matplotlib.font_manager:findfont: Font family 'Arial' not found.\n",
            "WARNING:matplotlib.font_manager:findfont: Font family 'Arial' not found.\n",
            "WARNING:matplotlib.font_manager:findfont: Font family 'Arial' not found.\n",
            "WARNING:matplotlib.font_manager:findfont: Font family 'Arial' not found.\n",
            "WARNING:matplotlib.font_manager:findfont: Font family 'Arial' not found.\n",
            "WARNING:matplotlib.font_manager:findfont: Font family 'Arial' not found.\n",
            "WARNING:matplotlib.font_manager:findfont: Font family 'Arial' not found.\n",
            "WARNING:matplotlib.font_manager:findfont: Font family 'Arial' not found.\n",
            "WARNING:matplotlib.font_manager:findfont: Font family 'Arial' not found.\n",
            "WARNING:matplotlib.font_manager:findfont: Font family 'Arial' not found.\n",
            "WARNING:matplotlib.font_manager:findfont: Font family 'Arial' not found.\n",
            "WARNING:matplotlib.font_manager:findfont: Font family 'Arial' not found.\n",
            "WARNING:matplotlib.font_manager:findfont: Font family 'Arial' not found.\n",
            "WARNING:matplotlib.font_manager:findfont: Font family 'Arial' not found.\n",
            "WARNING:matplotlib.font_manager:findfont: Font family 'Arial' not found.\n",
            "WARNING:matplotlib.font_manager:findfont: Font family 'Arial' not found.\n",
            "WARNING:matplotlib.font_manager:findfont: Font family 'Arial' not found.\n",
            "WARNING:matplotlib.font_manager:findfont: Font family 'Arial' not found.\n",
            "WARNING:matplotlib.font_manager:findfont: Font family 'Arial' not found.\n",
            "WARNING:matplotlib.font_manager:findfont: Font family 'Arial' not found.\n",
            "WARNING:matplotlib.font_manager:findfont: Font family 'Arial' not found.\n",
            "WARNING:matplotlib.font_manager:findfont: Font family 'Arial' not found.\n",
            "WARNING:matplotlib.font_manager:findfont: Font family 'Arial' not found.\n",
            "WARNING:matplotlib.font_manager:findfont: Font family 'Arial' not found.\n",
            "WARNING:matplotlib.font_manager:findfont: Font family 'Arial' not found.\n",
            "WARNING:matplotlib.font_manager:findfont: Font family 'Arial' not found.\n",
            "WARNING:matplotlib.font_manager:findfont: Font family 'Arial' not found.\n"
          ]
        },
        {
          "output_type": "stream",
          "name": "stdout",
          "text": [
            "\n",
            "========================================\n",
            "============ Решение задачи ============\n",
            "\n",
            "Минимальные затраты: 1150\n",
            "\n",
            "Матрица перевозок:\n",
            "[[ 50  50   0]\n",
            " [  0   0  50]\n",
            " [  0   0 100]]\n"
          ]
        },
        {
          "output_type": "display_data",
          "data": {
            "text/plain": [
              "<Figure size 1200x800 with 1 Axes>"
            ],
            "image/png": "[encoded data removed]"
          },
          "metadata": {}
        }
      ]
    },
    {
      "cell_type": "markdown",
      "source": [
        "Спасибо за внимание!"
      ],
      "metadata": {
        "id": "O8GF0hvpuZMj"
      }
    }
  ]
}