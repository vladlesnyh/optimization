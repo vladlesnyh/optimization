{
 "cells": [
  {
   "cell_type": "markdown",
   "id": "b39f9784",
   "metadata": {
    "id": "ClzzymJOZjJ9",
    "papermill": {
     "duration": 0.00541,
     "end_time": "2025-01-15T09:45:33.979611",
     "exception": false,
     "start_time": "2025-01-15T09:45:33.974201",
     "status": "completed"
    },
    "tags": []
   },
   "source": [
    "# Максимальный поток"
   ]
  },
  {
   "cell_type": "markdown",
   "id": "9b26d621",
   "metadata": {
    "id": "zgqRmYFRZpXo",
    "papermill": {
     "duration": 0.004285,
     "end_time": "2025-01-15T09:45:33.988774",
     "exception": false,
     "start_time": "2025-01-15T09:45:33.984489",
     "status": "completed"
    },
    "tags": []
   },
   "source": [
    "МЫ хотим транспортировать материал из узла 0 ( источника ) в узел 4 ( приемника). Цифры рядом с дугами — это их мощности — мощность дуги — это максимальный объем, который можно перевезти через нее за фиксированный период времени. Возможности являются ограничениями для проблемы."
   ]
  },
  {
   "cell_type": "markdown",
   "id": "2c74eda2",
   "metadata": {
    "id": "0YzZ4ZF6axG8",
    "papermill": {
     "duration": 0.00422,
     "end_time": "2025-01-15T09:45:33.997575",
     "exception": false,
     "start_time": "2025-01-15T09:45:33.993355",
     "status": "completed"
    },
    "tags": []
   },
   "source": [
    "![Часть II. Лаб. 1. Задача о потоке.png](data:image/png;base64,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)"
   ]
  },
  {
   "cell_type": "markdown",
   "id": "97882fa3",
   "metadata": {
    "id": "0WEzfPCGatBn",
    "papermill": {
     "duration": 0.004215,
     "end_time": "2025-01-15T09:45:34.006769",
     "exception": false,
     "start_time": "2025-01-15T09:45:34.002554",
     "status": "completed"
    },
    "tags": []
   },
   "source": [
    "\n",
    "Поток — это присвоение каждой дуге неотрицательного числа (величины потока), которое удовлетворяет следующему правилу сохранения потока: *В каждом узле, кроме источника или приемника, общий поток всех дуг, ведущих в узел, равен общему потоку всех дуг, выходящих из него*\n",
    "\n",
    "Задача максимального потока состоит в том, чтобы найти поток, для которого сумма величин потока для всей сети будет как можно большей.\n",
    "\n",
    "В следующих разделах представлены программы для поиска максимального расхода от источника (0) к стоку (4)."
   ]
  },
  {
   "cell_type": "markdown",
   "id": "69f8437c",
   "metadata": {
    "id": "zSYugBJBWp6T",
    "papermill": {
     "duration": 0.004132,
     "end_time": "2025-01-15T09:45:34.015358",
     "exception": false,
     "start_time": "2025-01-15T09:45:34.011226",
     "status": "completed"
    },
    "tags": []
   },
   "source": [
    "## Математическая постановка задаи"
   ]
  },
  {
   "cell_type": "markdown",
   "id": "a4acd966",
   "metadata": {
    "id": "9r4Jd81RWt-S",
    "papermill": {
     "duration": 0.004038,
     "end_time": "2025-01-15T09:45:34.023695",
     "exception": false,
     "start_time": "2025-01-15T09:45:34.019657",
     "status": "completed"
    },
    "tags": []
   },
   "source": [
    "Описание постановка задачи о максимальном потоке:\n",
    "\n",
    "1. Ориентированный граф $G=(V,E)$:\n",
    "- $V$ — множество вершин.\n",
    "- $E$ — множество рёбер.\n",
    "\n",
    "2. Вершины:\n",
    "- $s$ — исток (начальная вершина).\n",
    "- $t$ — сток (конечная вершина).\n",
    "\n",
    "3. Пропускная способность рёбер:\n",
    "- Каждое ребро $(u,v)∈E$ имеет пропускную способность $c(u,v)$.\n",
    "\n",
    "4. Поток по рёбрам:\n",
    "- Поток по ребру $(u,v)∈E$ обозначается как $f(u,v)$.\n",
    "\n",
    "5. Остаточная сеть:\n",
    "- Остаточная сеть $G_f$  — это граф, полученный из $G$ после вычитания текущего потока из пропускной способности рёбер.\n",
    "\n",
    "6. Задача:\n",
    "- Найти поток $f$, который максимизирует поток из истока $s$ в сток $t$, при этом соблюдая ограничения на пропускную способность рёбер.\n",
    "\n",
    "7. Алгоритм Форда-Фалкерсона:\n",
    "- Инициализировать поток $f$ как нулевой.\n",
    "- Находить пути из $s$ в $t$ в остаточной сети $G_f$.\n",
    "- Пропускать поток по найденному пути, равный минимальной пропускной способности рёбер на этом пути.\n",
    "- Обновлять остаточную сеть после каждого изменения потока.\n",
    "- Повторять до тех пор, пока не будет найден путь из $s$ в $t$ в остаточной сети.\n",
    "\n",
    "Таким образом, задача о максимальном потоке заключается в нахождении максимального количества потока, которое можно пропустить из истока в сток, соблюдая ограничения на пропускную способность рёбер.\n",
    "\n",
    "**Математическая постановка задачи о максимальном потоке в виде формулы выглядит следующим образом**:\n",
    "\n",
    "1. **Целевая функция**:\n",
    "   - $\\text{maximize} \\sum_{(u, v) \\in E} f(u, v)$\n",
    "\n",
    "2. **Ограничения на пропускную способность**:\n",
    "   - $0 \\leq f(u, v) \\leq c(u, v)$ для всех $(u, v) \\in E$\n",
    "\n",
    "3. **Сохранение потока**:\n",
    "   - Для всех вершин $v \\in V \\setminus \\{s, t\\}$:\n",
    "     - $\\sum_{(u, v) \\in E} f(u, v) = \\sum_{(v, w) \\in E} f(v, w)$\n",
    "\n",
    "4. **Поток из истока**:\n",
    "   - $\\sum_{(s, v) \\in E} f(s, v) = \\text{поток из истока}$\n",
    "\n",
    "5. **Поток в сток**:\n",
    "   - $\\sum_{(v, t) \\in E} f(v, t) = \\text{поток в сток}$\n",
    "\n",
    "Таким образом, задача о максимальном потоке заключается в нахождении такого распределения потока $f$ по рёбрам графа $G$, чтобы максимизировать общий поток из истока $s$ в сток $t$, соблюдая ограничения на пропускную способность рёбер и сохраняя баланс потока в вершинах, отличных от истока и стока."
   ]
  },
  {
   "cell_type": "markdown",
   "id": "d99cf0f0",
   "metadata": {
    "id": "uhgVnEOtl_gD",
    "papermill": {
     "duration": 0.004027,
     "end_time": "2025-01-15T09:45:34.032167",
     "exception": false,
     "start_time": "2025-01-15T09:45:34.028140",
     "status": "completed"
    },
    "tags": []
   },
   "source": [
    "## Импортируем библиотеки\n",
    "Следующий код импортирует необходимую библиотеку."
   ]
  },
  {
   "cell_type": "code",
   "execution_count": 1,
   "id": "3f89e2c8",
   "metadata": {
    "execution": {
     "iopub.execute_input": "2025-01-15T09:45:34.042492Z",
     "iopub.status.busy": "2025-01-15T09:45:34.042021Z",
     "iopub.status.idle": "2025-01-15T09:45:58.996251Z",
     "shell.execute_reply": "2025-01-15T09:45:58.994550Z"
    },
    "id": "DhiK_H1ol9g7",
    "outputId": "0c32cab3-5507-4563-93d2-c0969e961599",
    "papermill": {
     "duration": 24.962521,
     "end_time": "2025-01-15T09:45:58.999049",
     "exception": false,
     "start_time": "2025-01-15T09:45:34.036528",
     "status": "completed"
    },
    "tags": []
   },
   "outputs": [
    {
     "name": "stdout",
     "output_type": "stream",
     "text": [
      "Collecting ortools\n",
      "  Downloading ortools-9.11.4210-cp311-cp311-win_amd64.whl.metadata (3.0 kB)\n",
      "Collecting absl-py>=2.0.0 (from ortools)\n",
      "  Downloading absl_py-2.1.0-py3-none-any.whl.metadata (2.3 kB)\n",
      "Collecting numpy>=1.13.3 (from ortools)\n",
      "  Downloading numpy-2.2.1-cp311-cp311-win_amd64.whl.metadata (60 kB)\n",
      "     ---------------------------------------- 0.0/60.8 kB ? eta -:--:--\n",
      "     ---------------------------------------- 0.0/60.8 kB ? eta -:--:--\n",
      "     ------ --------------------------------- 10.2/60.8 kB ? eta -:--:--\n",
      "     ------------------- ------------------ 30.7/60.8 kB 330.3 kB/s eta 0:00:01\n",
      "     -------------------------------------- 60.8/60.8 kB 404.8 kB/s eta 0:00:00\n",
      "Collecting pandas>=2.0.0 (from ortools)\n",
      "  Downloading pandas-2.2.3-cp311-cp311-win_amd64.whl.metadata (19 kB)\n",
      "Collecting protobuf<5.27,>=5.26.1 (from ortools)\n",
      "  Downloading protobuf-5.26.1-cp310-abi3-win_amd64.whl.metadata (592 bytes)\n",
      "Collecting immutabledict>=3.0.0 (from ortools)\n",
      "  Downloading immutabledict-4.2.1-py3-none-any.whl.metadata (3.5 kB)\n",
      "Requirement already satisfied: python-dateutil>=2.8.2 in c:\\users\\vlesnyh\\appdata\\local\\packages\\pythonsoftwarefoundation.python.3.11_qbz5n2kfra8p0\\localcache\\local-packages\\python311\\site-packages (from pandas>=2.0.0->ortools) (2.9.0.post0)\n",
      "Collecting pytz>=2020.1 (from pandas>=2.0.0->ortools)\n",
      "  Downloading pytz-2024.2-py2.py3-none-any.whl.metadata (22 kB)\n",
      "Collecting tzdata>=2022.7 (from pandas>=2.0.0->ortools)\n",
      "  Downloading tzdata-2024.2-py2.py3-none-any.whl.metadata (1.4 kB)\n",
      "Requirement already satisfied: six>=1.5 in c:\\users\\vlesnyh\\appdata\\local\\packages\\pythonsoftwarefoundation.python.3.11_qbz5n2kfra8p0\\localcache\\local-packages\\python311\\site-packages (from python-dateutil>=2.8.2->pandas>=2.0.0->ortools) (1.17.0)\n",
      "Downloading ortools-9.11.4210-cp311-cp311-win_amd64.whl (142.5 MB)\n",
      "   ---------------------------------------- 0.0/142.5 MB ? eta -:--:--\n",
      "   ---------------------------------------- 0.1/142.5 MB 3.2 MB/s eta 0:00:45\n",
      "   ---------------------------------------- 0.2/142.5 MB 1.8 MB/s eta 0:01:18\n",
      "   ---------------------------------------- 0.2/142.5 MB 1.8 MB/s eta 0:01:19\n",
      "   ---------------------------------------- 0.3/142.5 MB 2.1 MB/s eta 0:01:08\n",
      "   ---------------------------------------- 0.6/142.5 MB 2.5 MB/s eta 0:00:57\n",
      "   ---------------------------------------- 0.8/142.5 MB 2.9 MB/s eta 0:00:50\n",
      "   ---------------------------------------- 1.3/142.5 MB 4.0 MB/s eta 0:00:36\n",
      "   ---------------------------------------- 1.4/142.5 MB 4.3 MB/s eta 0:00:33\n",
      "   ---------------------------------------- 1.5/142.5 MB 3.6 MB/s eta 0:00:39\n",
      "   ---------------------------------------- 1.5/142.5 MB 3.6 MB/s eta 0:00:39\n",
      "    --------------------------------------- 2.1/142.5 MB 4.3 MB/s eta 0:00:33\n",
      "    --------------------------------------- 2.4/142.5 MB 4.3 MB/s eta 0:00:33\n",
      "    --------------------------------------- 2.7/142.5 MB 4.5 MB/s eta 0:00:32\n",
      "    --------------------------------------- 2.7/142.5 MB 4.5 MB/s eta 0:00:32\n",
      "    --------------------------------------- 3.4/142.5 MB 4.9 MB/s eta 0:00:29\n",
      "   - -------------------------------------- 3.9/142.5 MB 5.1 MB/s eta 0:00:28\n",
      "   - -------------------------------------- 4.3/142.5 MB 5.2 MB/s eta 0:00:27\n",
      "   - -------------------------------------- 4.9/142.5 MB 5.6 MB/s eta 0:00:25\n",
      "   - -------------------------------------- 5.5/142.5 MB 5.9 MB/s eta 0:00:24\n",
      "   - -------------------------------------- 5.9/142.5 MB 6.2 MB/s eta 0:00:23\n",
      "   - -------------------------------------- 6.4/142.5 MB 6.4 MB/s eta 0:00:22\n",
      "   - -------------------------------------- 7.0/142.5 MB 6.6 MB/s eta 0:00:21\n",
      "   -- ------------------------------------- 7.5/142.5 MB 6.8 MB/s eta 0:00:20\n",
      "   -- ------------------------------------- 8.1/142.5 MB 7.0 MB/s eta 0:00:20\n",
      "   -- ------------------------------------- 8.7/142.5 MB 7.2 MB/s eta 0:00:19\n",
      "   -- ------------------------------------- 9.3/142.5 MB 7.4 MB/s eta 0:00:18\n",
      "   -- ------------------------------------- 9.9/142.5 MB 7.5 MB/s eta 0:00:18\n",
      "   -- ------------------------------------- 10.4/142.5 MB 8.3 MB/s eta 0:00:16\n",
      "   --- ------------------------------------ 11.0/142.5 MB 9.1 MB/s eta 0:00:15\n",
      "   --- ------------------------------------ 11.4/142.5 MB 9.1 MB/s eta 0:00:15\n",
      "   --- ------------------------------------ 12.0/142.5 MB 10.1 MB/s eta 0:00:13\n",
      "   --- ------------------------------------ 12.6/142.5 MB 10.4 MB/s eta 0:00:13\n",
      "   --- ------------------------------------ 13.1/142.5 MB 11.5 MB/s eta 0:00:12\n",
      "   ---- ----------------------------------- 14.6/142.5 MB 11.7 MB/s eta 0:00:11\n",
      "   ---- ----------------------------------- 15.3/142.5 MB 11.7 MB/s eta 0:00:11\n",
      "   ---- ----------------------------------- 15.8/142.5 MB 11.7 MB/s eta 0:00:11\n",
      "   ---- ----------------------------------- 16.4/142.5 MB 11.7 MB/s eta 0:00:11\n",
      "   ---- ----------------------------------- 17.0/142.5 MB 11.9 MB/s eta 0:00:11\n",
      "   ---- ----------------------------------- 17.6/142.5 MB 11.7 MB/s eta 0:00:11\n",
      "   ----- ---------------------------------- 18.1/142.5 MB 11.7 MB/s eta 0:00:11\n",
      "   ----- ---------------------------------- 18.7/142.5 MB 11.9 MB/s eta 0:00:11\n",
      "   ----- ---------------------------------- 19.1/142.5 MB 11.7 MB/s eta 0:00:11\n",
      "   ----- ---------------------------------- 19.1/142.5 MB 11.7 MB/s eta 0:00:11\n",
      "   ----- ---------------------------------- 20.2/142.5 MB 11.5 MB/s eta 0:00:11\n",
      "   ----- ---------------------------------- 20.6/142.5 MB 11.3 MB/s eta 0:00:11\n",
      "   ----- ---------------------------------- 21.0/142.5 MB 11.1 MB/s eta 0:00:11\n",
      "   ------ --------------------------------- 21.5/142.5 MB 11.1 MB/s eta 0:00:11\n",
      "   ------ --------------------------------- 21.9/142.5 MB 11.1 MB/s eta 0:00:11\n",
      "   ------ --------------------------------- 22.4/142.5 MB 10.9 MB/s eta 0:00:12\n",
      "   ------ --------------------------------- 22.8/142.5 MB 10.7 MB/s eta 0:00:12\n",
      "   ------ --------------------------------- 23.1/142.5 MB 10.6 MB/s eta 0:00:12\n",
      "   ------ --------------------------------- 23.5/142.5 MB 10.6 MB/s eta 0:00:12\n",
      "   ------ --------------------------------- 23.9/142.5 MB 10.4 MB/s eta 0:00:12\n",
      "   ------ --------------------------------- 24.4/142.5 MB 10.4 MB/s eta 0:00:12\n",
      "   ------ --------------------------------- 24.8/142.5 MB 10.1 MB/s eta 0:00:12\n",
      "   ------- -------------------------------- 25.3/142.5 MB 10.1 MB/s eta 0:00:12\n",
      "   ------- -------------------------------- 25.7/142.5 MB 9.9 MB/s eta 0:00:12\n",
      "   ------- -------------------------------- 26.2/142.5 MB 9.9 MB/s eta 0:00:12\n",
      "   ------- -------------------------------- 26.6/142.5 MB 9.8 MB/s eta 0:00:12\n",
      "   ------- -------------------------------- 27.1/142.5 MB 9.6 MB/s eta 0:00:12\n",
      "   ------- -------------------------------- 27.5/142.5 MB 9.6 MB/s eta 0:00:12\n",
      "   ------- -------------------------------- 27.9/142.5 MB 9.5 MB/s eta 0:00:13\n",
      "   ------- -------------------------------- 28.3/142.5 MB 9.4 MB/s eta 0:00:13\n",
      "   -------- ------------------------------- 28.9/142.5 MB 9.4 MB/s eta 0:00:13\n",
      "   -------- ------------------------------- 29.4/142.5 MB 9.2 MB/s eta 0:00:13\n",
      "   -------- ------------------------------- 29.8/142.5 MB 9.5 MB/s eta 0:00:12\n",
      "   -------- ------------------------------- 30.1/142.5 MB 9.4 MB/s eta 0:00:12\n",
      "   -------- ------------------------------- 30.6/142.5 MB 9.2 MB/s eta 0:00:13\n",
      "   -------- ------------------------------- 31.1/142.5 MB 9.2 MB/s eta 0:00:13\n",
      "   -------- ------------------------------- 31.4/142.5 MB 9.1 MB/s eta 0:00:13\n",
      "   -------- ------------------------------- 31.9/142.5 MB 9.2 MB/s eta 0:00:12\n",
      "   --------- ------------------------------ 32.4/142.5 MB 9.4 MB/s eta 0:00:12\n",
      "   --------- ------------------------------ 32.7/142.5 MB 9.4 MB/s eta 0:00:12\n",
      "   --------- ------------------------------ 33.2/142.5 MB 9.4 MB/s eta 0:00:12\n",
      "   --------- ------------------------------ 33.7/142.5 MB 9.5 MB/s eta 0:00:12\n",
      "   --------- ------------------------------ 34.2/142.5 MB 9.5 MB/s eta 0:00:12\n",
      "   --------- ------------------------------ 34.5/142.5 MB 9.5 MB/s eta 0:00:12\n",
      "   --------- ------------------------------ 35.1/142.5 MB 9.6 MB/s eta 0:00:12\n",
      "   --------- ------------------------------ 35.5/142.5 MB 9.5 MB/s eta 0:00:12\n",
      "   ---------- ----------------------------- 35.9/142.5 MB 9.6 MB/s eta 0:00:12\n",
      "   ---------- ----------------------------- 36.4/142.5 MB 9.6 MB/s eta 0:00:12\n",
      "   ---------- ----------------------------- 36.9/142.5 MB 9.5 MB/s eta 0:00:12\n",
      "   ---------- ----------------------------- 37.5/142.5 MB 9.6 MB/s eta 0:00:11\n",
      "   ---------- ----------------------------- 37.9/142.5 MB 9.8 MB/s eta 0:00:11\n",
      "   ---------- ----------------------------- 38.4/142.5 MB 9.6 MB/s eta 0:00:11\n",
      "   ---------- ----------------------------- 38.9/142.5 MB 9.8 MB/s eta 0:00:11\n",
      "   ----------- ---------------------------- 39.4/142.5 MB 9.8 MB/s eta 0:00:11\n",
      "   ----------- ---------------------------- 39.8/142.5 MB 9.8 MB/s eta 0:00:11\n",
      "   ----------- ---------------------------- 40.3/142.5 MB 9.8 MB/s eta 0:00:11\n",
      "   ----------- ---------------------------- 40.8/142.5 MB 9.6 MB/s eta 0:00:11\n",
      "   ----------- ---------------------------- 41.3/142.5 MB 9.8 MB/s eta 0:00:11\n",
      "   ----------- ---------------------------- 41.8/142.5 MB 9.9 MB/s eta 0:00:11\n",
      "   ----------- ---------------------------- 42.3/142.5 MB 10.1 MB/s eta 0:00:10\n",
      "   ------------ --------------------------- 42.8/142.5 MB 9.9 MB/s eta 0:00:11\n",
      "   ------------ --------------------------- 43.3/142.5 MB 9.8 MB/s eta 0:00:11\n",
      "   ------------ --------------------------- 43.8/142.5 MB 9.9 MB/s eta 0:00:10\n",
      "   ------------ --------------------------- 44.2/142.5 MB 9.9 MB/s eta 0:00:10\n",
      "   ------------ --------------------------- 44.7/142.5 MB 10.1 MB/s eta 0:00:10\n",
      "   ------------ --------------------------- 45.3/142.5 MB 9.9 MB/s eta 0:00:10\n",
      "   ------------ --------------------------- 45.7/142.5 MB 10.1 MB/s eta 0:00:10\n",
      "   ------------- -------------------------- 46.3/142.5 MB 10.1 MB/s eta 0:00:10\n",
      "   ------------- -------------------------- 46.8/142.5 MB 10.1 MB/s eta 0:00:10\n",
      "   ------------- -------------------------- 47.3/142.5 MB 10.1 MB/s eta 0:00:10\n",
      "   ------------- -------------------------- 47.9/142.5 MB 10.2 MB/s eta 0:00:10\n",
      "   ------------- -------------------------- 48.3/142.5 MB 10.1 MB/s eta 0:00:10\n",
      "   ------------- -------------------------- 48.8/142.5 MB 10.1 MB/s eta 0:00:10\n",
      "   ------------- -------------------------- 49.3/142.5 MB 10.2 MB/s eta 0:00:10\n",
      "   ------------- -------------------------- 49.8/142.5 MB 10.2 MB/s eta 0:00:10\n",
      "   -------------- ------------------------- 50.4/142.5 MB 10.1 MB/s eta 0:00:10\n",
      "   -------------- ------------------------- 50.9/142.5 MB 10.4 MB/s eta 0:00:09\n",
      "   -------------- ------------------------- 51.4/142.5 MB 10.2 MB/s eta 0:00:09\n",
      "   -------------- ------------------------- 51.9/142.5 MB 10.2 MB/s eta 0:00:09\n",
      "   -------------- ------------------------- 52.5/142.5 MB 10.2 MB/s eta 0:00:09\n",
      "   -------------- ------------------------- 52.9/142.5 MB 10.2 MB/s eta 0:00:09\n",
      "   --------------- ------------------------ 53.5/142.5 MB 10.2 MB/s eta 0:00:09\n",
      "   --------------- ------------------------ 54.0/142.5 MB 10.2 MB/s eta 0:00:09\n",
      "   --------------- ------------------------ 54.5/142.5 MB 10.4 MB/s eta 0:00:09\n",
      "   --------------- ------------------------ 55.0/142.5 MB 10.4 MB/s eta 0:00:09\n",
      "   --------------- ------------------------ 55.6/142.5 MB 10.2 MB/s eta 0:00:09\n",
      "   --------------- ------------------------ 56.0/142.5 MB 10.4 MB/s eta 0:00:09\n",
      "   --------------- ------------------------ 56.5/142.5 MB 10.4 MB/s eta 0:00:09\n",
      "   --------------- ------------------------ 57.0/142.5 MB 10.4 MB/s eta 0:00:09\n",
      "   ---------------- ----------------------- 57.5/142.5 MB 10.4 MB/s eta 0:00:09\n",
      "   ---------------- ----------------------- 58.0/142.5 MB 10.2 MB/s eta 0:00:09\n",
      "   ---------------- ----------------------- 58.6/142.5 MB 10.4 MB/s eta 0:00:09\n",
      "   ---------------- ----------------------- 59.0/142.5 MB 10.4 MB/s eta 0:00:09\n",
      "   ---------------- ----------------------- 59.5/142.5 MB 10.4 MB/s eta 0:00:08\n",
      "   ---------------- ----------------------- 60.0/142.5 MB 10.4 MB/s eta 0:00:08\n",
      "   ----------------- ---------------------- 60.6/142.5 MB 10.4 MB/s eta 0:00:08\n",
      "   ----------------- ---------------------- 61.2/142.5 MB 10.4 MB/s eta 0:00:08\n",
      "   ----------------- ---------------------- 61.6/142.5 MB 10.4 MB/s eta 0:00:08\n",
      "   ----------------- ---------------------- 62.1/142.5 MB 10.4 MB/s eta 0:00:08\n",
      "   ----------------- ---------------------- 62.7/142.5 MB 10.6 MB/s eta 0:00:08\n",
      "   ----------------- ---------------------- 63.2/142.5 MB 10.6 MB/s eta 0:00:08\n",
      "   ----------------- ---------------------- 63.6/142.5 MB 10.4 MB/s eta 0:00:08\n",
      "   ----------------- ---------------------- 64.1/142.5 MB 10.6 MB/s eta 0:00:08\n",
      "   ------------------ --------------------- 64.7/142.5 MB 10.4 MB/s eta 0:00:08\n",
      "   ------------------ --------------------- 65.2/142.5 MB 10.6 MB/s eta 0:00:08\n",
      "   ------------------ --------------------- 65.7/142.5 MB 10.4 MB/s eta 0:00:08\n",
      "   ------------------ --------------------- 66.2/142.5 MB 10.4 MB/s eta 0:00:08\n",
      "   ------------------ --------------------- 66.8/142.5 MB 10.4 MB/s eta 0:00:08\n",
      "   ------------------ --------------------- 67.3/142.5 MB 10.4 MB/s eta 0:00:08\n",
      "   ------------------- -------------------- 67.8/142.5 MB 10.6 MB/s eta 0:00:08\n",
      "   ------------------- -------------------- 68.2/142.5 MB 10.4 MB/s eta 0:00:08\n",
      "   ------------------- -------------------- 68.7/142.5 MB 10.6 MB/s eta 0:00:07\n",
      "   ------------------- -------------------- 69.2/142.5 MB 10.4 MB/s eta 0:00:08\n",
      "   ------------------- -------------------- 69.8/142.5 MB 10.6 MB/s eta 0:00:07\n",
      "   ------------------- -------------------- 70.3/142.5 MB 10.6 MB/s eta 0:00:07\n",
      "   ------------------- -------------------- 70.8/142.5 MB 10.4 MB/s eta 0:00:07\n",
      "   -------------------- ------------------- 71.2/142.5 MB 10.6 MB/s eta 0:00:07\n",
      "   -------------------- ------------------- 71.7/142.5 MB 10.6 MB/s eta 0:00:07\n",
      "   -------------------- ------------------- 72.2/142.5 MB 10.6 MB/s eta 0:00:07\n",
      "   -------------------- ------------------- 72.7/142.5 MB 10.6 MB/s eta 0:00:07\n",
      "   -------------------- ------------------- 73.3/142.5 MB 10.4 MB/s eta 0:00:07\n",
      "   -------------------- ------------------- 73.8/142.5 MB 10.4 MB/s eta 0:00:07\n",
      "   -------------------- ------------------- 74.3/142.5 MB 10.4 MB/s eta 0:00:07\n",
      "   --------------------- ------------------ 74.9/142.5 MB 10.6 MB/s eta 0:00:07\n",
      "   --------------------- ------------------ 75.4/142.5 MB 10.6 MB/s eta 0:00:07\n",
      "   --------------------- ------------------ 75.9/142.5 MB 10.6 MB/s eta 0:00:07\n",
      "   --------------------- ------------------ 76.4/142.5 MB 10.6 MB/s eta 0:00:07\n",
      "   --------------------- ------------------ 77.0/142.5 MB 10.6 MB/s eta 0:00:07\n",
      "   --------------------- ------------------ 77.5/142.5 MB 10.6 MB/s eta 0:00:07\n",
      "   --------------------- ------------------ 78.0/142.5 MB 10.4 MB/s eta 0:00:07\n",
      "   ---------------------- ----------------- 78.5/142.5 MB 10.6 MB/s eta 0:00:07\n",
      "   ---------------------- ----------------- 79.1/142.5 MB 10.7 MB/s eta 0:00:06\n",
      "   ---------------------- ----------------- 79.5/142.5 MB 10.6 MB/s eta 0:00:06\n",
      "   ---------------------- ----------------- 79.9/142.5 MB 10.6 MB/s eta 0:00:06\n",
      "   ---------------------- ----------------- 80.5/142.5 MB 10.4 MB/s eta 0:00:06\n",
      "   ---------------------- ----------------- 81.0/142.5 MB 10.7 MB/s eta 0:00:06\n",
      "   ---------------------- ----------------- 81.2/142.5 MB 10.4 MB/s eta 0:00:06\n",
      "   ----------------------- ---------------- 82.0/142.5 MB 10.4 MB/s eta 0:00:06\n",
      "   ----------------------- ---------------- 82.3/142.5 MB 10.2 MB/s eta 0:00:06\n",
      "   ----------------------- ---------------- 82.7/142.5 MB 10.1 MB/s eta 0:00:06\n",
      "   ----------------------- ---------------- 83.1/142.5 MB 10.1 MB/s eta 0:00:06\n",
      "   ----------------------- ---------------- 83.4/142.5 MB 9.9 MB/s eta 0:00:06\n",
      "   ----------------------- ---------------- 83.7/142.5 MB 9.8 MB/s eta 0:00:07\n",
      "   ----------------------- ---------------- 84.1/142.5 MB 9.6 MB/s eta 0:00:07\n",
      "   ----------------------- ---------------- 84.5/142.5 MB 9.6 MB/s eta 0:00:07\n",
      "   ----------------------- ---------------- 84.9/142.5 MB 9.4 MB/s eta 0:00:07\n",
      "   ----------------------- ---------------- 85.3/142.5 MB 9.2 MB/s eta 0:00:07\n",
      "   ------------------------ --------------- 85.6/142.5 MB 9.4 MB/s eta 0:00:07\n",
      "   ------------------------ --------------- 86.0/142.5 MB 9.2 MB/s eta 0:00:07\n",
      "   ------------------------ --------------- 86.4/142.5 MB 9.0 MB/s eta 0:00:07\n",
      "   ------------------------ --------------- 86.7/142.5 MB 9.0 MB/s eta 0:00:07\n",
      "   ------------------------ --------------- 87.1/142.5 MB 8.8 MB/s eta 0:00:07\n",
      "   ------------------------ --------------- 87.5/142.5 MB 8.8 MB/s eta 0:00:07\n",
      "   ------------------------ --------------- 87.8/142.5 MB 8.8 MB/s eta 0:00:07\n",
      "   ------------------------ --------------- 88.2/142.5 MB 8.6 MB/s eta 0:00:07\n",
      "   ------------------------ --------------- 88.6/142.5 MB 8.6 MB/s eta 0:00:07\n",
      "   ------------------------ --------------- 89.0/142.5 MB 8.5 MB/s eta 0:00:07\n",
      "   ------------------------- -------------- 89.4/142.5 MB 8.4 MB/s eta 0:00:07\n",
      "   ------------------------- -------------- 89.8/142.5 MB 8.4 MB/s eta 0:00:07\n",
      "   ------------------------- -------------- 90.2/142.5 MB 8.3 MB/s eta 0:00:07\n",
      "   ------------------------- -------------- 90.5/142.5 MB 8.3 MB/s eta 0:00:07\n",
      "   ------------------------- -------------- 91.0/142.5 MB 8.2 MB/s eta 0:00:07\n",
      "   ------------------------- -------------- 91.4/142.5 MB 8.3 MB/s eta 0:00:07\n",
      "   ------------------------- -------------- 91.9/142.5 MB 8.3 MB/s eta 0:00:07\n",
      "   ------------------------- -------------- 92.3/142.5 MB 8.2 MB/s eta 0:00:07\n",
      "   -------------------------- ------------- 92.7/142.5 MB 8.2 MB/s eta 0:00:07\n",
      "   -------------------------- ------------- 93.2/142.5 MB 8.2 MB/s eta 0:00:07\n",
      "   -------------------------- ------------- 93.6/142.5 MB 8.3 MB/s eta 0:00:06\n",
      "   -------------------------- ------------- 94.1/142.5 MB 8.4 MB/s eta 0:00:06\n",
      "   -------------------------- ------------- 94.5/142.5 MB 8.5 MB/s eta 0:00:06\n",
      "   -------------------------- ------------- 95.0/142.5 MB 8.5 MB/s eta 0:00:06\n",
      "   -------------------------- ------------- 95.4/142.5 MB 8.6 MB/s eta 0:00:06\n",
      "   -------------------------- ------------- 95.8/142.5 MB 8.6 MB/s eta 0:00:06\n",
      "   --------------------------- ------------ 96.2/142.5 MB 8.6 MB/s eta 0:00:06\n",
      "   --------------------------- ------------ 96.7/142.5 MB 8.7 MB/s eta 0:00:06\n",
      "   --------------------------- ------------ 97.1/142.5 MB 8.6 MB/s eta 0:00:06\n",
      "   --------------------------- ------------ 97.6/142.5 MB 8.7 MB/s eta 0:00:06\n",
      "   --------------------------- ------------ 98.1/142.5 MB 8.8 MB/s eta 0:00:06\n",
      "   --------------------------- ------------ 98.5/142.5 MB 8.8 MB/s eta 0:00:05\n",
      "   --------------------------- ------------ 99.0/142.5 MB 8.8 MB/s eta 0:00:05\n",
      "   --------------------------- ------------ 99.4/142.5 MB 9.0 MB/s eta 0:00:05\n",
      "   ---------------------------- ----------- 99.9/142.5 MB 9.0 MB/s eta 0:00:05\n",
      "   ---------------------------- ----------- 100.4/142.5 MB 9.1 MB/s eta 0:00:05\n",
      "   ---------------------------- ----------- 100.9/142.5 MB 9.1 MB/s eta 0:00:05\n",
      "   ---------------------------- ----------- 101.4/142.5 MB 9.0 MB/s eta 0:00:05\n",
      "   ---------------------------- ----------- 101.8/142.5 MB 9.2 MB/s eta 0:00:05\n",
      "   ---------------------------- ----------- 102.3/142.5 MB 9.4 MB/s eta 0:00:05\n",
      "   ---------------------------- ----------- 102.8/142.5 MB 9.2 MB/s eta 0:00:05\n",
      "   ---------------------------- ----------- 103.3/142.5 MB 9.4 MB/s eta 0:00:05\n",
      "   ----------------------------- ---------- 103.7/142.5 MB 9.4 MB/s eta 0:00:05\n",
      "   ----------------------------- ---------- 104.1/142.5 MB 9.5 MB/s eta 0:00:05\n",
      "   ----------------------------- ---------- 104.4/142.5 MB 9.4 MB/s eta 0:00:05\n",
      "   ----------------------------- ---------- 104.9/142.5 MB 9.5 MB/s eta 0:00:04\n",
      "   ----------------------------- ---------- 105.4/142.5 MB 9.5 MB/s eta 0:00:04\n",
      "   ----------------------------- ---------- 105.9/142.5 MB 9.5 MB/s eta 0:00:04\n",
      "   ----------------------------- ---------- 106.4/142.5 MB 9.5 MB/s eta 0:00:04\n",
      "   ----------------------------- ---------- 106.8/142.5 MB 9.6 MB/s eta 0:00:04\n",
      "   ------------------------------ --------- 107.2/142.5 MB 9.6 MB/s eta 0:00:04\n",
      "   ------------------------------ --------- 107.7/142.5 MB 9.6 MB/s eta 0:00:04\n",
      "   ------------------------------ --------- 108.2/142.5 MB 9.6 MB/s eta 0:00:04\n",
      "   ------------------------------ --------- 108.7/142.5 MB 9.8 MB/s eta 0:00:04\n",
      "   ------------------------------ --------- 109.2/142.5 MB 9.6 MB/s eta 0:00:04\n",
      "   ------------------------------ --------- 109.7/142.5 MB 9.8 MB/s eta 0:00:04\n",
      "   ------------------------------ --------- 110.1/142.5 MB 9.9 MB/s eta 0:00:04\n",
      "   ------------------------------- -------- 110.5/142.5 MB 9.6 MB/s eta 0:00:04\n",
      "   ------------------------------- -------- 110.9/142.5 MB 9.8 MB/s eta 0:00:04\n",
      "   ------------------------------- -------- 111.3/142.5 MB 9.9 MB/s eta 0:00:04\n",
      "   ------------------------------- -------- 111.9/142.5 MB 9.9 MB/s eta 0:00:04\n",
      "   ------------------------------- -------- 112.4/142.5 MB 9.9 MB/s eta 0:00:04\n",
      "   ------------------------------- -------- 112.9/142.5 MB 9.8 MB/s eta 0:00:04\n",
      "   ------------------------------- -------- 113.3/142.5 MB 9.9 MB/s eta 0:00:03\n",
      "   ------------------------------- -------- 113.7/142.5 MB 9.9 MB/s eta 0:00:03\n",
      "   -------------------------------- ------- 114.2/142.5 MB 9.9 MB/s eta 0:00:03\n",
      "   -------------------------------- ------- 114.7/142.5 MB 9.9 MB/s eta 0:00:03\n",
      "   -------------------------------- ------- 115.2/142.5 MB 9.8 MB/s eta 0:00:03\n",
      "   -------------------------------- ------- 115.8/142.5 MB 9.9 MB/s eta 0:00:03\n",
      "   ------------------------------- ------- 116.3/142.5 MB 10.1 MB/s eta 0:00:03\n",
      "   ------------------------------- ------- 116.8/142.5 MB 10.1 MB/s eta 0:00:03\n",
      "   -------------------------------- ------ 117.3/142.5 MB 10.1 MB/s eta 0:00:03\n",
      "   -------------------------------- ------ 117.8/142.5 MB 10.2 MB/s eta 0:00:03\n",
      "   -------------------------------- ------ 118.3/142.5 MB 10.1 MB/s eta 0:00:03\n",
      "   -------------------------------- ------ 118.9/142.5 MB 10.1 MB/s eta 0:00:03\n",
      "   -------------------------------- ------ 119.4/142.5 MB 10.2 MB/s eta 0:00:03\n",
      "   -------------------------------- ------ 119.9/142.5 MB 10.2 MB/s eta 0:00:03\n",
      "   -------------------------------- ------ 120.4/142.5 MB 10.1 MB/s eta 0:00:03\n",
      "   --------------------------------- ----- 120.9/142.5 MB 10.4 MB/s eta 0:00:03\n",
      "   --------------------------------- ----- 121.4/142.5 MB 10.2 MB/s eta 0:00:03\n",
      "   --------------------------------- ----- 121.9/142.5 MB 10.2 MB/s eta 0:00:03\n",
      "   --------------------------------- ----- 122.5/142.5 MB 10.1 MB/s eta 0:00:02\n",
      "   --------------------------------- ----- 122.9/142.5 MB 10.2 MB/s eta 0:00:02\n",
      "   --------------------------------- ----- 123.3/142.5 MB 10.2 MB/s eta 0:00:02\n",
      "   --------------------------------- ----- 123.9/142.5 MB 10.2 MB/s eta 0:00:02\n",
      "   ---------------------------------- ---- 124.4/142.5 MB 10.2 MB/s eta 0:00:02\n",
      "   ---------------------------------- ---- 124.9/142.5 MB 10.4 MB/s eta 0:00:02\n",
      "   ---------------------------------- ---- 125.4/142.5 MB 10.4 MB/s eta 0:00:02\n",
      "   ---------------------------------- ---- 126.0/142.5 MB 10.4 MB/s eta 0:00:02\n",
      "   ---------------------------------- ---- 126.4/142.5 MB 10.4 MB/s eta 0:00:02\n",
      "   ---------------------------------- ---- 126.8/142.5 MB 10.4 MB/s eta 0:00:02\n",
      "   ---------------------------------- ---- 127.2/142.5 MB 10.2 MB/s eta 0:00:02\n",
      "   ---------------------------------- ---- 127.6/142.5 MB 10.4 MB/s eta 0:00:02\n",
      "   ----------------------------------- --- 128.2/142.5 MB 10.4 MB/s eta 0:00:02\n",
      "   ----------------------------------- --- 128.6/142.5 MB 10.4 MB/s eta 0:00:02\n",
      "   ----------------------------------- --- 129.2/142.5 MB 10.4 MB/s eta 0:00:02\n",
      "   ----------------------------------- --- 129.6/142.5 MB 10.4 MB/s eta 0:00:02\n",
      "   ----------------------------------- --- 130.1/142.5 MB 10.6 MB/s eta 0:00:02\n",
      "   ----------------------------------- --- 130.6/142.5 MB 10.4 MB/s eta 0:00:02\n",
      "   ----------------------------------- --- 131.2/142.5 MB 10.4 MB/s eta 0:00:02\n",
      "   ------------------------------------ -- 131.7/142.5 MB 10.4 MB/s eta 0:00:02\n",
      "   ------------------------------------ -- 132.2/142.5 MB 10.4 MB/s eta 0:00:01\n",
      "   ------------------------------------ -- 132.8/142.5 MB 10.4 MB/s eta 0:00:01\n",
      "   ------------------------------------ -- 133.3/142.5 MB 10.6 MB/s eta 0:00:01\n",
      "   ------------------------------------ -- 133.8/142.5 MB 10.4 MB/s eta 0:00:01\n",
      "   ------------------------------------ -- 134.3/142.5 MB 10.4 MB/s eta 0:00:01\n",
      "   ------------------------------------ -- 134.8/142.5 MB 10.6 MB/s eta 0:00:01\n",
      "   ------------------------------------- - 135.2/142.5 MB 10.4 MB/s eta 0:00:01\n",
      "   ------------------------------------- - 135.7/142.5 MB 10.4 MB/s eta 0:00:01\n",
      "   ------------------------------------- - 136.2/142.5 MB 10.4 MB/s eta 0:00:01\n",
      "   ------------------------------------- - 136.8/142.5 MB 10.4 MB/s eta 0:00:01\n",
      "   ------------------------------------- - 137.3/142.5 MB 10.6 MB/s eta 0:00:01\n",
      "   ------------------------------------- - 137.8/142.5 MB 10.6 MB/s eta 0:00:01\n",
      "   ------------------------------------- - 138.4/142.5 MB 10.4 MB/s eta 0:00:01\n",
      "   --------------------------------------  138.8/142.5 MB 10.6 MB/s eta 0:00:01\n",
      "   --------------------------------------  139.2/142.5 MB 10.6 MB/s eta 0:00:01\n",
      "   --------------------------------------  139.6/142.5 MB 10.4 MB/s eta 0:00:01\n",
      "   --------------------------------------  140.1/142.5 MB 10.4 MB/s eta 0:00:01\n",
      "   --------------------------------------  140.7/142.5 MB 10.4 MB/s eta 0:00:01\n",
      "   --------------------------------------  141.2/142.5 MB 10.6 MB/s eta 0:00:01\n",
      "   --------------------------------------  141.7/142.5 MB 10.6 MB/s eta 0:00:01\n",
      "   --------------------------------------  142.2/142.5 MB 10.6 MB/s eta 0:00:01\n",
      "   --------------------------------------  142.4/142.5 MB 10.4 MB/s eta 0:00:01\n",
      "   --------------------------------------  142.4/142.5 MB 10.4 MB/s eta 0:00:01\n",
      "   --------------------------------------  142.4/142.5 MB 10.4 MB/s eta 0:00:01\n",
      "   --------------------------------------  142.4/142.5 MB 10.4 MB/s eta 0:00:01\n",
      "   --------------------------------------  142.4/142.5 MB 10.4 MB/s eta 0:00:01\n",
      "   --------------------------------------  142.4/142.5 MB 10.4 MB/s eta 0:00:01\n",
      "   --------------------------------------  142.4/142.5 MB 10.4 MB/s eta 0:00:01\n",
      "   --------------------------------------  142.4/142.5 MB 10.4 MB/s eta 0:00:01\n",
      "   --------------------------------------  142.4/142.5 MB 10.4 MB/s eta 0:00:01\n",
      "   ---------------------------------------- 142.5/142.5 MB 7.4 MB/s eta 0:00:00\n",
      "Downloading absl_py-2.1.0-py3-none-any.whl (133 kB)\n",
      "   ---------------------------------------- 0.0/133.7 kB ? eta -:--:--\n",
      "   ---------------------------------------- 133.7/133.7 kB 7.7 MB/s eta 0:00:00\n",
      "Downloading immutabledict-4.2.1-py3-none-any.whl (4.7 kB)\n",
      "Downloading numpy-2.2.1-cp311-cp311-win_amd64.whl (12.9 MB)\n",
      "   ---------------------------------------- 0.0/12.9 MB ? eta -:--:--\n",
      "   - -------------------------------------- 0.6/12.9 MB 13.1 MB/s eta 0:00:01\n",
      "   --- ------------------------------------ 1.0/12.9 MB 10.9 MB/s eta 0:00:02\n",
      "   ---- ----------------------------------- 1.4/12.9 MB 11.1 MB/s eta 0:00:02\n",
      "   ----- ---------------------------------- 1.9/12.9 MB 12.1 MB/s eta 0:00:01\n",
      "   ------- -------------------------------- 2.3/12.9 MB 11.3 MB/s eta 0:00:01\n",
      "   -------- ------------------------------- 2.8/12.9 MB 11.3 MB/s eta 0:00:01\n",
      "   ---------- ----------------------------- 3.3/12.9 MB 11.0 MB/s eta 0:00:01\n",
      "   ----------- ---------------------------- 3.7/12.9 MB 10.7 MB/s eta 0:00:01\n",
      "   ------------ --------------------------- 4.1/12.9 MB 11.0 MB/s eta 0:00:01\n",
      "   -------------- ------------------------- 4.6/12.9 MB 10.9 MB/s eta 0:00:01\n",
      "   --------------- ------------------------ 5.1/12.9 MB 10.9 MB/s eta 0:00:01\n",
      "   ----------------- ---------------------- 5.6/12.9 MB 10.5 MB/s eta 0:00:01\n",
      "   ------------------ --------------------- 6.1/12.9 MB 10.9 MB/s eta 0:00:01\n",
      "   -------------------- ------------------- 6.6/12.9 MB 10.8 MB/s eta 0:00:01\n",
      "   ---------------------- ----------------- 7.1/12.9 MB 10.8 MB/s eta 0:00:01\n",
      "   ----------------------- ---------------- 7.6/12.9 MB 10.8 MB/s eta 0:00:01\n",
      "   ------------------------ --------------- 8.1/12.9 MB 10.5 MB/s eta 0:00:01\n",
      "   -------------------------- ------------- 8.6/12.9 MB 10.7 MB/s eta 0:00:01\n",
      "   --------------------------- ------------ 9.0/12.9 MB 10.7 MB/s eta 0:00:01\n",
      "   ----------------------------- ---------- 9.5/12.9 MB 10.7 MB/s eta 0:00:01\n",
      "   ------------------------------ --------- 10.0/12.9 MB 10.6 MB/s eta 0:00:01\n",
      "   -------------------------------- ------- 10.4/12.9 MB 10.6 MB/s eta 0:00:01\n",
      "   ---------------------------------- ----- 11.0/12.9 MB 10.6 MB/s eta 0:00:01\n",
      "   ----------------------------------- ---- 11.4/12.9 MB 10.6 MB/s eta 0:00:01\n",
      "   ------------------------------------ --- 11.8/12.9 MB 10.4 MB/s eta 0:00:01\n",
      "   ------------------------------------- -- 12.3/12.9 MB 10.6 MB/s eta 0:00:01\n",
      "   ---------------------------------------  12.6/12.9 MB 10.4 MB/s eta 0:00:01\n",
      "   ---------------------------------------  12.9/12.9 MB 10.6 MB/s eta 0:00:01\n",
      "   ---------------------------------------- 12.9/12.9 MB 10.2 MB/s eta 0:00:00\n",
      "Downloading pandas-2.2.3-cp311-cp311-win_amd64.whl (11.6 MB)\n",
      "   ---------------------------------------- 0.0/11.6 MB ? eta -:--:--\n",
      "   - -------------------------------------- 0.5/11.6 MB 16.2 MB/s eta 0:00:01\n",
      "   -- ------------------------------------- 0.9/11.6 MB 13.5 MB/s eta 0:00:01\n",
      "   ---- ----------------------------------- 1.3/11.6 MB 12.1 MB/s eta 0:00:01\n",
      "   ------ --------------------------------- 1.8/11.6 MB 11.5 MB/s eta 0:00:01\n",
      "   -------- ------------------------------- 2.3/11.6 MB 11.4 MB/s eta 0:00:01\n",
      "   --------- ------------------------------ 2.8/11.6 MB 11.1 MB/s eta 0:00:01\n",
      "   ----------- ---------------------------- 3.2/11.6 MB 11.5 MB/s eta 0:00:01\n",
      "   ------------ --------------------------- 3.7/11.6 MB 11.1 MB/s eta 0:00:01\n",
      "   ------------- -------------------------- 4.0/11.6 MB 10.8 MB/s eta 0:00:01\n",
      "   --------------- ------------------------ 4.6/11.6 MB 10.8 MB/s eta 0:00:01\n",
      "   ----------------- ---------------------- 5.0/11.6 MB 10.6 MB/s eta 0:00:01\n",
      "   ------------------- -------------------- 5.5/11.6 MB 11.0 MB/s eta 0:00:01\n",
      "   -------------------- ------------------- 6.0/11.6 MB 10.9 MB/s eta 0:00:01\n",
      "   ---------------------- ----------------- 6.4/11.6 MB 10.7 MB/s eta 0:00:01\n",
      "   ----------------------- ---------------- 6.9/11.6 MB 10.8 MB/s eta 0:00:01\n",
      "   ------------------------- -------------- 7.4/11.6 MB 10.7 MB/s eta 0:00:01\n",
      "   -------------------------- ------------- 7.8/11.6 MB 10.9 MB/s eta 0:00:01\n",
      "   ---------------------------- ----------- 8.2/11.6 MB 10.7 MB/s eta 0:00:01\n",
      "   ----------------------------- ---------- 8.7/11.6 MB 10.7 MB/s eta 0:00:01\n",
      "   ------------------------------- -------- 9.2/11.6 MB 10.7 MB/s eta 0:00:01\n",
      "   --------------------------------- ------ 9.6/11.6 MB 10.6 MB/s eta 0:00:01\n",
      "   ---------------------------------- ----- 10.1/11.6 MB 10.7 MB/s eta 0:00:01\n",
      "   ------------------------------------ --- 10.5/11.6 MB 10.6 MB/s eta 0:00:01\n",
      "   -------------------------------------- - 11.1/11.6 MB 10.6 MB/s eta 0:00:01\n",
      "   ---------------------------------------  11.5/11.6 MB 10.4 MB/s eta 0:00:01\n",
      "   ---------------------------------------  11.6/11.6 MB 10.7 MB/s eta 0:00:01\n",
      "   ---------------------------------------- 11.6/11.6 MB 10.2 MB/s eta 0:00:00\n",
      "Downloading protobuf-5.26.1-cp310-abi3-win_amd64.whl (420 kB)\n",
      "   ---------------------------------------- 0.0/420.9 kB ? eta -:--:--\n",
      "   --------------------------------------  419.8/420.9 kB 13.2 MB/s eta 0:00:01\n",
      "   ---------------------------------------- 420.9/420.9 kB 8.7 MB/s eta 0:00:00\n",
      "Downloading pytz-2024.2-py2.py3-none-any.whl (508 kB)\n",
      "   ---------------------------------------- 0.0/508.0 kB ? eta -:--:--\n",
      "   --------------------------------------  501.8/508.0 kB 15.9 MB/s eta 0:00:01\n",
      "   ---------------------------------------- 508.0/508.0 kB 8.0 MB/s eta 0:00:00\n",
      "Downloading tzdata-2024.2-py2.py3-none-any.whl (346 kB)\n",
      "   ---------------------------------------- 0.0/346.6 kB ? eta -:--:--\n",
      "   ---------------------------------------- 346.6/346.6 kB 7.3 MB/s eta 0:00:00\n",
      "Installing collected packages: pytz, tzdata, protobuf, numpy, immutabledict, absl-py, pandas, ortools\n",
      "Successfully installed absl-py-2.1.0 immutabledict-4.2.1 numpy-2.2.1 ortools-9.11.4210 pandas-2.2.3 protobuf-5.26.1 pytz-2024.2 tzdata-2024.2\n"
     ]
    },
    {
     "name": "stderr",
     "output_type": "stream",
     "text": [
      "\n",
      "[notice] A new release of pip is available: 24.0 -> 24.3.1\n",
      "[notice] To update, run: C:\\Users\\VLesnyh\\AppData\\Local\\Microsoft\\WindowsApps\\PythonSoftwareFoundation.Python.3.11_qbz5n2kfra8p0\\python.exe -m pip install --upgrade pip\n"
     ]
    }
   ],
   "source": [
    "!pip install ortools"
   ]
  },
  {
   "cell_type": "code",
   "execution_count": 3,
   "id": "c8866c0b",
   "metadata": {
    "execution": {
     "iopub.execute_input": "2025-01-15T09:45:59.013740Z",
     "iopub.status.busy": "2025-01-15T09:45:59.013392Z",
     "iopub.status.idle": "2025-01-15T09:45:59.045456Z",
     "shell.execute_reply": "2025-01-15T09:45:59.044326Z"
    },
    "id": "hvdsTILwZEIR",
    "papermill": {
     "duration": 0.041248,
     "end_time": "2025-01-15T09:45:59.047551",
     "exception": false,
     "start_time": "2025-01-15T09:45:59.006303",
     "status": "completed"
    },
    "tags": []
   },
   "outputs": [],
   "source": [
    "import numpy as np\n",
    "from ortools.graph.python import max_flow"
   ]
  },
  {
   "cell_type": "markdown",
   "id": "50071fdd",
   "metadata": {
    "id": "RbKxtDYQmMD7",
    "papermill": {
     "duration": 0.005467,
     "end_time": "2025-01-15T09:45:59.059151",
     "exception": false,
     "start_time": "2025-01-15T09:45:59.053684",
     "status": "completed"
    },
    "tags": []
   },
   "source": [
    "## Объявляем решатель\n",
    "Для решения задачи можно использовать решатель SimpleMaxFlow."
   ]
  },
  {
   "cell_type": "code",
   "execution_count": 4,
   "id": "db8721e0",
   "metadata": {
    "execution": {
     "iopub.execute_input": "2025-01-15T09:45:59.071765Z",
     "iopub.status.busy": "2025-01-15T09:45:59.071398Z",
     "iopub.status.idle": "2025-01-15T09:45:59.075952Z",
     "shell.execute_reply": "2025-01-15T09:45:59.074666Z"
    },
    "id": "SvUrOWeemR8R",
    "papermill": {
     "duration": 0.013037,
     "end_time": "2025-01-15T09:45:59.077805",
     "exception": false,
     "start_time": "2025-01-15T09:45:59.064768",
     "status": "completed"
    },
    "tags": []
   },
   "outputs": [],
   "source": [
    "# Создаем экземпляр решателя SimpleMaxFlow\n",
    "smf = max_flow.SimpleMaxFlow()"
   ]
  },
  {
   "cell_type": "code",
   "execution_count": 5,
   "id": "79b55f35",
   "metadata": {
    "execution": {
     "iopub.execute_input": "2025-01-15T09:45:59.091523Z",
     "iopub.status.busy": "2025-01-15T09:45:59.091179Z",
     "iopub.status.idle": "2025-01-15T09:45:59.096480Z",
     "shell.execute_reply": "2025-01-15T09:45:59.095362Z"
    },
    "papermill": {
     "duration": 0.014234,
     "end_time": "2025-01-15T09:45:59.098353",
     "exception": false,
     "start_time": "2025-01-15T09:45:59.084119",
     "status": "completed"
    },
    "tags": []
   },
   "outputs": [],
   "source": [
    "start_nodes = np.array([0, 0, 0, 1, 1, 2, 2, 3, 3])\n",
    "end_nodes =   np.array([1, 2, 3, 2, 4, 3, 4, 2, 4])\n",
    "capacities = np.array([20, 30, 10, 40, 30, 10, 20, 5, 20])"
   ]
  },
  {
   "cell_type": "markdown",
   "id": "d403908d",
   "metadata": {
    "id": "cog0bQHZmeOH",
    "papermill": {
     "duration": 0.005656,
     "end_time": "2025-01-15T09:45:59.110064",
     "exception": false,
     "start_time": "2025-01-15T09:45:59.104408",
     "status": "completed"
    },
    "tags": []
   },
   "source": [
    "## Определим данные\n",
    "\n",
    "Вы определяете граф для задачи с тремя массивами для начальных узлов, конечных узлов и пропускных способностей дуг. Длина каждого массива равна количеству дуг в графе.\n",
    "\n",
    "Для каждого i дуга i идет от start_nodes[i] до end_nodes[i] , а ее пропускная способность задается capacities[i] . В следующем разделе показано, как создавать дуги, используя эти данные."
   ]
  },
  {
   "cell_type": "code",
   "execution_count": 6,
   "id": "f5491d5e",
   "metadata": {
    "execution": {
     "iopub.execute_input": "2025-01-15T09:45:59.123102Z",
     "iopub.status.busy": "2025-01-15T09:45:59.122701Z",
     "iopub.status.idle": "2025-01-15T09:45:59.128148Z",
     "shell.execute_reply": "2025-01-15T09:45:59.126993Z"
    },
    "id": "aqA5N2lLmoZk",
    "papermill": {
     "duration": 0.014116,
     "end_time": "2025-01-15T09:45:59.130019",
     "exception": false,
     "start_time": "2025-01-15T09:45:59.115903",
     "status": "completed"
    },
    "tags": []
   },
   "outputs": [],
   "source": [
    "# Определим три параллельных массива: start_nodes, end_nodes и емкости\n",
    "# между каждой парой. Например, дуга от узла 0 до узла 1 имеет емкость 20.\n",
    "start_nodes = np.array([0, 0, 0, 1, 1, 2, 2, 3, 3])\n",
    "end_nodes =   np.array([1, 2, 3, 2, 4, 3, 4, 2, 4])\n",
    "capacities = np.array([20, 30, 10, 40, 30, 10, 20, 5, 20])"
   ]
  },
  {
   "cell_type": "markdown",
   "id": "504ea5bd",
   "metadata": {
    "id": "ke61vSfInFYs",
    "papermill": {
     "duration": 0.005993,
     "end_time": "2025-01-15T09:45:59.142243",
     "exception": false,
     "start_time": "2025-01-15T09:45:59.136250",
     "status": "completed"
    },
    "tags": []
   },
   "source": [
    "## Добавим дуги\n",
    "\n",
    "Для каждого начального узла и конечного узла вы создаете дугу от начального узла до конечного узла с заданной емкостью, используя метод AddArcWithCapacity. Возможности являются ограничениями для проблемы."
   ]
  },
  {
   "cell_type": "code",
   "execution_count": 7,
   "id": "43c5cbda",
   "metadata": {
    "execution": {
     "iopub.execute_input": "2025-01-15T09:45:59.155642Z",
     "iopub.status.busy": "2025-01-15T09:45:59.155323Z",
     "iopub.status.idle": "2025-01-15T09:45:59.159975Z",
     "shell.execute_reply": "2025-01-15T09:45:59.159095Z"
    },
    "id": "vgs5OSPfnEw-",
    "papermill": {
     "duration": 0.013201,
     "end_time": "2025-01-15T09:45:59.161485",
     "exception": false,
     "start_time": "2025-01-15T09:45:59.148284",
     "status": "completed"
    },
    "tags": []
   },
   "outputs": [],
   "source": [
    "# Добавляйте дуги массово.\n",
    "# примечание: можно использовать add_arc_with_capacity (начало, конец, емкость)\n",
    "all_arcs = smf.add_arcs_with_capacity(start_nodes, end_nodes, capacities)"
   ]
  },
  {
   "cell_type": "markdown",
   "id": "63177b60",
   "metadata": {
    "id": "GlcKwFZDn01V",
    "papermill": {
     "duration": 0.005578,
     "end_time": "2025-01-15T09:45:59.173112",
     "exception": false,
     "start_time": "2025-01-15T09:45:59.167534",
     "status": "completed"
    },
    "tags": []
   },
   "source": [
    "# Вызов решателя\n",
    "\n",
    "Теперь, когда все дуги определены, остается только вызвать решатель и отобразить результаты. Вы вызываете метод Solve() , предоставляя источник (0) и приемник (4)."
   ]
  },
  {
   "cell_type": "code",
   "execution_count": 8,
   "id": "d42f8b21",
   "metadata": {
    "execution": {
     "iopub.execute_input": "2025-01-15T09:45:59.185913Z",
     "iopub.status.busy": "2025-01-15T09:45:59.185588Z",
     "iopub.status.idle": "2025-01-15T09:45:59.189562Z",
     "shell.execute_reply": "2025-01-15T09:45:59.188764Z"
    },
    "id": "PJTpMz1hn7oU",
    "papermill": {
     "duration": 0.012037,
     "end_time": "2025-01-15T09:45:59.190945",
     "exception": false,
     "start_time": "2025-01-15T09:45:59.178908",
     "status": "completed"
    },
    "tags": []
   },
   "outputs": [],
   "source": [
    "# НайдЕМ максимальный поток между узлом 0 и узлом 4.\n",
    "status = smf.solve(0, 4)"
   ]
  },
  {
   "cell_type": "markdown",
   "id": "4c24f476",
   "metadata": {
    "id": "VUgs-zQ8n675",
    "papermill": {
     "duration": 0.005383,
     "end_time": "2025-01-15T09:45:59.202186",
     "exception": false,
     "start_time": "2025-01-15T09:45:59.196803",
     "status": "completed"
    },
    "tags": []
   },
   "source": []
  },
  {
   "cell_type": "markdown",
   "id": "f5bf063a",
   "metadata": {
    "id": "xd-s_M4mogLD",
    "papermill": {
     "duration": 0.005385,
     "end_time": "2025-01-15T09:45:59.213151",
     "exception": false,
     "start_time": "2025-01-15T09:45:59.207766",
     "status": "completed"
    },
    "tags": []
   },
   "source": [
    "## Отображение результатов\n",
    "\n",
    "Теперь вы можете отображать поток по каждой дуге."
   ]
  },
  {
   "cell_type": "code",
   "execution_count": 11,
   "id": "cd3409cc",
   "metadata": {
    "execution": {
     "iopub.execute_input": "2025-01-15T09:45:59.225909Z",
     "iopub.status.busy": "2025-01-15T09:45:59.225568Z",
     "iopub.status.idle": "2025-01-15T09:45:59.234555Z",
     "shell.execute_reply": "2025-01-15T09:45:59.232788Z"
    },
    "id": "0QetOtQZomBu",
    "outputId": "29cd26fa-9e70-45b8-b5b8-e469464f70b8",
    "papermill": {
     "duration": 0.017199,
     "end_time": "2025-01-15T09:45:59.236210",
     "exception": false,
     "start_time": "2025-01-15T09:45:59.219011",
     "status": "completed"
    },
    "tags": []
   },
   "outputs": [
    {
     "name": "stdout",
     "output_type": "stream",
     "text": [
      "Максимальный поток: 60\n",
      "\n",
      "Дуга (ребро)  Потоко / Пропускная способность\n",
      "0 -> 1    20  /  20\n",
      "0 -> 2    30  /  30\n",
      "0 -> 3    10  /  10\n",
      "1 -> 2     0  /  40\n",
      "1 -> 4    20  /  30\n",
      "2 -> 3    10  /  10\n",
      "2 -> 4    20  /  20\n",
      "3 -> 2     0  /   5\n",
      "3 -> 4    20  /  20\n"
     ]
    }
   ],
   "source": [
    "if status != smf.OPTIMAL:\n",
    "    print(\"Возникла проблема с максимальным расходом на входе.\")\n",
    "    print(f\"Статус: {status}\")\n",
    "    exit(1)\n",
    "print(\"Максимальный поток:\", smf.optimal_flow())\n",
    "print(\"\")\n",
    "print(\"Дуга (ребро)  Потоко / Пропускная способность\")\n",
    "solution_flows = smf.flows(all_arcs)\n",
    "for arc, flow, capacity in zip(all_arcs, solution_flows, capacities):\n",
    "    print(f\"{smf.tail(arc)} -> {smf.head(arc)}   {flow:3}  / {capacity:3}\")\n",
    "#print(\"Минимальное разрез со стороны источника:\", smf.get_source_side_min_cut())\n",
    "#print(\"Минимальный разрез на стороне стока\", smf.get_sink_side_min_cut())"
   ]
  }
 ],
 "metadata": {
  "colab": {
   "provenance": [],
   "toc_visible": true
  },
  "kaggle": {
   "accelerator": "none",
   "dataSources": [],
   "dockerImageVersionId": 30839,
   "isGpuEnabled": false,
   "isInternetEnabled": true,
   "language": "python",
   "sourceType": "notebook"
  },
  "kernelspec": {
   "display_name": "Python 3",
   "language": "python",
   "name": "python3"
  },
  "language_info": {
   "codemirror_mode": {
    "name": "ipython",
    "version": 3
   },
   "file_extension": ".py",
   "mimetype": "text/x-python",
   "name": "python",
   "nbconvert_exporter": "python",
   "pygments_lexer": "ipython3",
   "version": "3.11.9"
  },
  "papermill": {
   "default_parameters": {},
   "duration": 28.613863,
   "end_time": "2025-01-15T09:45:59.763085",
   "environment_variables": {},
   "exception": null,
   "input_path": "__notebook__.ipynb",
   "output_path": "__notebook__.ipynb",
   "parameters": {},
   "start_time": "2025-01-15T09:45:31.149222",
   "version": "2.6.0"
  }
 },
 "nbformat": 4,
 "nbformat_minor": 5
}
